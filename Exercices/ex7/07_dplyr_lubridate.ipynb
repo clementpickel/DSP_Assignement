{
 "cells": [
  {
   "cell_type": "markdown",
   "id": "9de3dbe1",
   "metadata": {},
   "source": [
    "*Prepared for the course \"TDPS22: Data Science Programming\" at Jönköping University, Teacher: [Marcel Bollmann](mailto:marcel.bollmann@ju.se)*\n",
    "\n",
    "# Exercise 7: Data Transformation with dplyr & lubridate\n",
    "\n",
    "This notebook contains exercises on data transformation. We're following [Chapter 5 in _R for Data Science_](https://r4ds.had.co.nz/transform.html), but also jump ahead a bit and include [Chapter 16 on \"dates and times\"](https://r4ds.had.co.nz/dates-and-times.html).\n",
    "\n",
    "Concretely, we'll look at the five core functions for data manipulation with dplyr – `filter()`, `arrange()`, `select()`, `mutate()`, and `summarise()` –, data grouping via `group_by()`, how to use pipes to chain function calls via `%>%`, and how to work with dates, date-times, and times-of-day.\n",
    "\n",
    "### Learning Goals\n",
    "\n",
    "- Know how to _perform data manipulation_ with dplyr.\n",
    "- Understand how to _use pipes_.\n",
    "- Understand how to _work with dates and date-times_ in lubridate, and _time-of-day_ in hms.\n",
    "\n",
    "### Useful Resources\n",
    "\n",
    "+ [\"Data transformation\" in _R for Data Science_](https://r4ds.had.co.nz/transform.html)\n",
    "+ [\"Dates and times\" in _R for Data Science_](https://r4ds.had.co.nz/dates-and-times.html)\n",
    "+ [RStudio Cheatsheets](https://www.rstudio.com/resources/cheatsheets/)\n",
    "+ [Hands-On Programming with R](https://rstudio-education.github.io/hopr/) _(as a reference)_"
   ]
  },
  {
   "cell_type": "code",
   "execution_count": null,
   "id": "ab5ad40d",
   "metadata": {},
   "outputs": [],
   "source": [
    "library(tidyverse)\n",
    "library(lubridate)  # this is part of Tidyverse, but needs to be loaded explicitly\n",
    "library(hms)        # this is part of Tidyverse, but needs to be loaded explicitly"
   ]
  },
  {
   "cell_type": "markdown",
   "id": "a090eb0f-a2f3-40af-886f-e030a3e2f778",
   "metadata": {},
   "source": [
    "- - - \n",
    "\n",
    "Let's try loading the **Coffee Chain dataset** that we already saw in Exercise 1:"
   ]
  },
  {
   "cell_type": "code",
   "execution_count": null,
   "id": "2b113755-9335-47fb-8d60-eccfffc2cbae",
   "metadata": {},
   "outputs": [],
   "source": [
    "coffee <- read_csv(\"data/coffee-chain.csv\")"
   ]
  },
  {
   "cell_type": "markdown",
   "id": "677f3d01-d262-4035-92e1-158992f0e5cc",
   "metadata": {},
   "source": [
    "The column types are determined automatically, but they are not ideal — the numeric columns are assigned `dbl` (floating-point numbers) while they are actually only ever integer-valued, and the \"Market\", \"Product\", \"Product Type\" columns are good examples for **factors**, since they are categorical variables with a fixed set of possible values. Of course, there's also the question of how to parse the date into a proper `date` variable, but we'll get to that a little later. The other issues are easy to fix, so let's do that immediately:"
   ]
  },
  {
   "cell_type": "code",
   "execution_count": null,
   "id": "409b8643-e987-40bd-9e56-3917c0416b6b",
   "metadata": {},
   "outputs": [],
   "source": [
    "coffee <- read_csv(\"data/coffee-chain.csv\", col_types=\"cfffiii\")\n",
    "str(coffee)"
   ]
  },
  {
   "cell_type": "markdown",
   "id": "e655cac0-21df-411c-8d17-b21259985d99",
   "metadata": {},
   "source": [
    "Look at the help for `read_csv()` if you want to know more about the `col_types` argument ..."
   ]
  },
  {
   "cell_type": "markdown",
   "id": "8ae91e50-5817-4c45-ac78-63341b9b3fde",
   "metadata": {},
   "source": [
    "- - - \n",
    "\n",
    "## Filtering, arranging, selecting, mutating\n",
    "\n",
    "We first look at using four core dplyr functions individually:\n",
    "- `filter()` is a way to select certain _rows_ of a dataset;\n",
    "- `arrange()` is a way to sort them;\n",
    "- `select()` is a way to select certain _columns_ of a dataset; and\n",
    "- `mutate()` is a way to create new columns from old ones.\n",
    "\n",
    "**1. Select all rows with products of type \"Coffee\"!**  _(You should end up with 3383 rows. Look at the first line of the output to see the number of rows!)_"
   ]
  },
  {
   "cell_type": "code",
   "execution_count": null,
   "id": "7623831b-06d9-4aff-b8a0-35ae37a84879",
   "metadata": {},
   "outputs": [],
   "source": [
    "# YOUR CODE HERE"
   ]
  },
  {
   "cell_type": "markdown",
   "id": "ac388fa2-389e-4eee-b4e3-0e1028d8777b",
   "metadata": {},
   "source": [
    "**2. Select all rows with negative profit values!** _(You should end up with 686 rows.)_"
   ]
  },
  {
   "cell_type": "code",
   "execution_count": null,
   "id": "d4483698-5380-4a1e-9349-056d25f65f29",
   "metadata": {},
   "outputs": [],
   "source": [
    "# YOUR CODE HERE"
   ]
  },
  {
   "cell_type": "markdown",
   "id": "20bab962-ef1b-4689-941c-950dee3016d4",
   "metadata": {},
   "source": [
    "**3. Select all rows with product type \"Coffee\" _or_ \"Espresso\" that also come from the \"West\" market!** _(You should end up with 1712 rows.)_"
   ]
  },
  {
   "cell_type": "code",
   "execution_count": null,
   "id": "1aaa7824-95cb-4243-9229-af05567c48ad",
   "metadata": {},
   "outputs": [],
   "source": [
    "# YOUR CODE HERE"
   ]
  },
  {
   "cell_type": "markdown",
   "id": "0ba98e3d-ef82-46fb-bd9b-52ba9c133fed",
   "metadata": {},
   "source": [
    "**4. Select all rows with \"Darjeeling\" tea where the _sales_ are greater than 500!** _(You should end up with 76 rows.)_"
   ]
  },
  {
   "cell_type": "code",
   "execution_count": null,
   "id": "f8ebe8ff-fcb1-468d-8e60-5b878cc1fbc7",
   "metadata": {},
   "outputs": [],
   "source": [
    "# YOUR CODE HERE"
   ]
  },
  {
   "cell_type": "markdown",
   "id": "489aa47d-d370-4184-8d72-f11073414820",
   "metadata": {},
   "source": [
    "**5. Arrange the coffee dataset by \"Sales\" in descending order!** What product had the highest number of sales in the dataset?"
   ]
  },
  {
   "cell_type": "code",
   "execution_count": null,
   "id": "b62c24d9-7b90-4a39-aa3c-981b45ff7427",
   "metadata": {},
   "outputs": [],
   "source": [
    "# YOUR CODE HERE"
   ]
  },
  {
   "cell_type": "markdown",
   "id": "61d0de6b-db13-4165-8a6f-dd18fcd8c1ef",
   "metadata": {},
   "source": [
    "**6. Select the \"Product\" and \"Product Type\" columns and assign them to a variable `products`!**"
   ]
  },
  {
   "cell_type": "code",
   "execution_count": null,
   "id": "aad5f0ec-9cd9-42ae-90dc-799b28cbe462",
   "metadata": {},
   "outputs": [],
   "source": [
    "# YOUR CODE HERE"
   ]
  },
  {
   "cell_type": "markdown",
   "id": "e2c88e7b-5018-4eda-9a82-4f32b7446c41",
   "metadata": {},
   "source": [
    "Afterwards, you should be able to run the following line of code to get all 13 unique \"Product\"–\"Product Type\" combinations:"
   ]
  },
  {
   "cell_type": "code",
   "execution_count": null,
   "id": "2936b386-266e-450d-a9f0-f0389b6e87c9",
   "metadata": {},
   "outputs": [],
   "source": [
    "unique(products)"
   ]
  },
  {
   "cell_type": "markdown",
   "id": "9c8eca86-ee7e-46e4-92ff-1e301f0e968b",
   "metadata": {},
   "source": [
    "**7. Find out what the `any_of()` function does, and how to use it to select all columns whose names are included in the `cols` vector below.**"
   ]
  },
  {
   "cell_type": "code",
   "execution_count": null,
   "id": "350bdace-b092-4062-b87e-fee5efe49ec2",
   "metadata": {},
   "outputs": [],
   "source": [
    "cols <- c(\"Sales\", \"Inventory\", \"Budget\", \"Profit\", \"Expenses\")"
   ]
  },
  {
   "cell_type": "code",
   "execution_count": null,
   "id": "47bb74a3-00be-4359-99c1-edc0fecbeb0b",
   "metadata": {},
   "outputs": [],
   "source": [
    "# YOUR CODE HERE"
   ]
  },
  {
   "cell_type": "markdown",
   "id": "79e23b3a-4a91-4183-8756-c8e8be33f0d5",
   "metadata": {},
   "source": [
    "**8. Rearrange the columns so that the \"Product Type\" column comes first.**"
   ]
  },
  {
   "cell_type": "code",
   "execution_count": null,
   "id": "0ac06e61-125b-431a-bd19-93d47046a776",
   "metadata": {},
   "outputs": [],
   "source": [
    "# YOUR CODE HERE"
   ]
  },
  {
   "cell_type": "markdown",
   "id": "75f803ce-370a-4475-b57c-e223d9625b62",
   "metadata": {},
   "source": [
    "**9. Rename the \"Product Type\" column to \"Product_Type\"!** Notice the underscore. If we change the space to an underscore, we don't have to wrap this column name in backticks all the time. Assign the result to the `coffee` variable again so the change persists!"
   ]
  },
  {
   "cell_type": "code",
   "execution_count": null,
   "id": "f1027998-d6ed-471c-9af3-73ff5425b58c",
   "metadata": {},
   "outputs": [],
   "source": [
    "# YOUR CODE HERE"
   ]
  },
  {
   "cell_type": "markdown",
   "id": "757b357c-26b9-4a92-bc7e-f8987a823997",
   "metadata": {},
   "source": [
    "_Bonus:_ The `rename_with()` function changes column names based on a function. For example, we can change them all to lowercase via:"
   ]
  },
  {
   "cell_type": "code",
   "execution_count": null,
   "id": "512295d1-f7e6-4a47-8505-9083c260b76a",
   "metadata": {},
   "outputs": [],
   "source": [
    "coffee <- rename_with(coffee, tolower)"
   ]
  },
  {
   "cell_type": "markdown",
   "id": "79e3466d-121a-4f3d-b407-1549ac445d00",
   "metadata": {},
   "source": [
    "I'll refer to column names in lowercase from here on."
   ]
  },
  {
   "cell_type": "markdown",
   "id": "35c6c779-4460-4928-889b-12b546837a02",
   "metadata": {},
   "source": [
    "**10. Create two new columns: a column \"revenue\" that is the _sum_ of \"profit\" and \"expenses\"; and a column \"margin\" that is \"profit\" _divided by_ \"revenue\".** Try to create both columns in a single `mutate()` statement."
   ]
  },
  {
   "cell_type": "code",
   "execution_count": null,
   "id": "1b13ef4b-a9d1-4613-993e-c548e827533c",
   "metadata": {},
   "outputs": [],
   "source": [
    "# YOUR CODE HERE"
   ]
  },
  {
   "cell_type": "markdown",
   "id": "509c6d5b-3f2f-4a4d-bbd7-4724c043ce51",
   "metadata": {},
   "source": [
    "**11. Make a new column \"profit_above_avg\" that is `TRUE` when the \"profit\" is above the average of the dataset, and `FALSE` otherwise.** _Note:_ You can get the average by calling `mean()`."
   ]
  },
  {
   "cell_type": "code",
   "execution_count": null,
   "id": "742eea58-dd6b-40aa-9214-5373e0d31d4a",
   "metadata": {},
   "outputs": [],
   "source": [
    "# YOUR CODE HERE"
   ]
  },
  {
   "cell_type": "markdown",
   "id": "33559b62-d185-4960-aba2-796a6bc11172",
   "metadata": {},
   "source": [
    "- - - \n",
    "\n",
    "## Pipes, grouping, and summarising\n",
    "\n",
    "_Grouping_ and _summarising_ data is mainly done via `group_by()` and `summarise()`. They are often used together, and as such, it's a good idea to take a look at _pipes_ first before we get more into them."
   ]
  },
  {
   "cell_type": "markdown",
   "id": "2df2656f-a5a8-4154-b03c-70de45629da6",
   "metadata": {},
   "source": [
    "**12. Rewrite the cell below to a version _without pipes_ and _only one function per line_.** Use intermediate variables to store results of function calls. Basically, make sure that you understand what exactly is happening in the pipe."
   ]
  },
  {
   "cell_type": "code",
   "execution_count": null,
   "id": "e66ea119-238a-4230-b27c-5102cf8a5aa9",
   "metadata": {},
   "outputs": [],
   "source": [
    "coffee %>%  \n",
    "  pull(profit) %>%\n",
    "  sum == 643034"
   ]
  },
  {
   "cell_type": "code",
   "execution_count": null,
   "id": "29dcb3a1-b4b1-43ba-9a6f-f82a906531ec",
   "metadata": {},
   "outputs": [],
   "source": [
    "# YOUR CODE HERE"
   ]
  },
  {
   "cell_type": "markdown",
   "id": "33d74373-cdb3-4acd-9ca8-7f5841293e28",
   "metadata": {},
   "source": [
    "**13. Rewrite the cell below to a version _with pipes_.** You can use the `pull()` function to \"pull out\" specific columns of the dataset, or use the dot `.` in a pipe as a placeholder for the input variable."
   ]
  },
  {
   "cell_type": "code",
   "execution_count": null,
   "id": "c8582eb2-34a2-41cc-99bc-aedd398b1d8b",
   "metadata": {},
   "outputs": [],
   "source": [
    "tmp <- filter(coffee, sales > 100)\n",
    "tmp <- count(tmp)\n",
    "tmp$n"
   ]
  },
  {
   "cell_type": "code",
   "execution_count": null,
   "id": "32252cb9-207c-442e-8e9a-afd337359947",
   "metadata": {},
   "outputs": [],
   "source": [
    "# YOUR CODE HERE"
   ]
  },
  {
   "cell_type": "markdown",
   "id": "27f6c3a1-feaa-4912-8fad-9f7044d8c77b",
   "metadata": {},
   "source": [
    "**14. How many instances of each product type are there, and which one generates the most/the least profit, on average?** You'll need to chain a `group_by()` and a `summarise()` call to solve this; try to do this with a pipe (`%>%`) instead of intermediate variables, if possible. You should end up with a tibble that has four rows, one for each product type, and columns for the _name_, _count_, and _mean profit_ of each product type."
   ]
  },
  {
   "cell_type": "code",
   "execution_count": null,
   "id": "ecb3ff76-218c-4cb2-9fd7-457701835dc8",
   "metadata": {},
   "outputs": [],
   "source": [
    "# YOUR CODE HERE"
   ]
  },
  {
   "cell_type": "markdown",
   "id": "4f7abb75-bf2d-45ee-9776-9d49447d2484",
   "metadata": {},
   "source": [
    "**15. What's the _minimum, maximum, average, and median profit_ per \"product\"?** The resulting tibble should have unique \"product\" values (e.g., Amaretto, Caffe Latte, ...) as _rows_, and the statistics about the distribution of their \"profit\" values as _columns_."
   ]
  },
  {
   "cell_type": "code",
   "execution_count": null,
   "id": "ab61314b-ed0d-40e3-a757-efc7674bd740",
   "metadata": {},
   "outputs": [],
   "source": [
    "# YOUR CODE HERE"
   ]
  },
  {
   "cell_type": "markdown",
   "id": "b9554af2-c0c7-4ea3-b9d5-0e8467d382e5",
   "metadata": {},
   "source": [
    "**16. Filter out all products where we don't have data from all markets.** This is potentially a bit trickier. You might want to start by finding an expression that gives you the number of unique markets (you've seen an example for getting unique values at the top of this notebook, and you can look at the `length()` function to obtain a count), then try to figure out how to use grouping and filtering to achieve the desired result.\n",
    "\n",
    "_Note:_ Like in Exercise 1, where we did this before in Python, an indication that you got the right expression is that you should end up with a filtered dataset that has 7426 rows."
   ]
  },
  {
   "cell_type": "code",
   "execution_count": null,
   "id": "dd1c5d92-6429-4f15-9d51-f5f0b03530d6",
   "metadata": {},
   "outputs": [],
   "source": [
    "# YOUR CODE HERE"
   ]
  },
  {
   "cell_type": "markdown",
   "id": "26ccaf63-9004-4312-925e-1ff19da17d26",
   "metadata": {},
   "source": [
    "- - - \n",
    "\n",
    "## Dates and date-times\n",
    "\n",
    "In this final part, we combine what we've practised so far with `lubridate`, which gives us functionality to work with dates and date-times. Here, [Chapter 16](https://r4ds.had.co.nz/dates-and-times.html) of the book comes into play.\n",
    "\n",
    "**17. Find the right `lubridate` function to convert the following string to a `date` object!** This string is in the same format as the \"Ddate\" column of our coffee dataset, so knowing the conversion function will help us work with it."
   ]
  },
  {
   "cell_type": "code",
   "execution_count": null,
   "id": "a840803c-7c85-45ab-81cd-c8725f55ec53",
   "metadata": {},
   "outputs": [],
   "source": [
    "ddate1 <- \"8/21/13\"  # a.k.a. 21st August, 2013"
   ]
  },
  {
   "cell_type": "code",
   "execution_count": null,
   "id": "a5d49f4e-1208-4951-8909-560129c4e827",
   "metadata": {},
   "outputs": [],
   "source": [
    "# YOUR CODE HERE"
   ]
  },
  {
   "cell_type": "markdown",
   "id": "e24afaf3-e195-4112-a709-e5226d52f2a1",
   "metadata": {},
   "source": [
    "**18. Modify the `coffee` dataset so that the \"ddate\" column contains a parsed \"date\" object instead of a string!** In the transformed dataset, \"ddate\" should now be a column of type `<date>` instead of `<chr>`."
   ]
  },
  {
   "cell_type": "code",
   "execution_count": null,
   "id": "b4c504af-7ccf-43f9-88ed-5e9e3b92a6c4",
   "metadata": {},
   "outputs": [],
   "source": [
    "# YOUR CODE HERE"
   ]
  },
  {
   "cell_type": "markdown",
   "id": "1add1991-5440-4cdf-b9fa-d9d89c3cc258",
   "metadata": {},
   "source": [
    "**19. Select all _rows_ of the dataset where the _month_ is August.** Use your transformed dataset from the previous question."
   ]
  },
  {
   "cell_type": "code",
   "execution_count": null,
   "id": "314a9276-cff2-46ec-a314-49c4af72ce44",
   "metadata": {},
   "outputs": [],
   "source": [
    "# YOUR CODE HERE"
   ]
  },
  {
   "cell_type": "markdown",
   "id": "0b8452a1-4712-45d7-bee0-3464bf750661",
   "metadata": {},
   "source": [
    "**20. How many \"ddate\"s in the dataset fell on a Sunday, and how many rows do we have for these dates?** I'll give you the answer in table form below – produce a function pipeline that ultimately gives the same result:\n",
    "\n",
    "|   ddate    | count | wday   |\n",
    "|------------|-------|--------|\n",
    "| 2012-01-01 | 565   | Sunday |\n",
    "| 2012-04-01 | 434   | Sunday |\n",
    "| 2012-07-01 | 431   | Sunday |\n",
    "| 2013-09-01 | 410   | Sunday |\n",
    "| 2013-12-01 | 99    | Sunday |"
   ]
  },
  {
   "cell_type": "code",
   "execution_count": null,
   "id": "1af96e23-0397-4411-882a-9d4d7459c58d",
   "metadata": {},
   "outputs": [],
   "source": [
    "# YOUR CODE HERE"
   ]
  },
  {
   "cell_type": "markdown",
   "id": "819a7f30-382f-43a8-928d-59ddf303101f",
   "metadata": {},
   "source": [
    "The \"coffee chain\" dataset doesn't contain any times or date-times, so we'll try to answer some \"artificial\" questions that deal with those for now. There will be more opportunities to practice working with times and date-times in the assignment (and potentially other exercises).\n",
    "\n",
    "**21. How many _seconds_ passed between the birth of _Queen Elizabeth II of the United Kingdom_ and _King Carl XVI Gustaf of Sweden_?** Wikipedia is very specific about the times that royals were born. Concretely, you can find that:\n",
    "\n",
    "- Queen Elizabeth II was born on April 21, 1926, at 2:40 a.m. GMT in London.\n",
    "- Carl XVI Gustaf was born on April 30, 1946, at 10:20 a.m. in Stockholm.\n",
    "\n",
    "Create date-time objects for the birth of these two monarchs (don't forget about time zones!) and compute the difference _in seconds_ between them!"
   ]
  },
  {
   "cell_type": "code",
   "execution_count": null,
   "id": "e2487212-25f7-4fe8-947d-df6b5320f2ad",
   "metadata": {},
   "outputs": [],
   "source": [
    "# YOUR CODE HERE"
   ]
  },
  {
   "cell_type": "markdown",
   "id": "0ed7d659-cd74-45b9-98f9-61cdc976aff3",
   "metadata": {},
   "source": [
    "**22. How many seconds after 10:00:00 is it right now?** This is a use case for the `hms` package, which isn't explicitly described in the book, but is simple & useful enough that we can just take a brief look at its documentation. Check `?hms` or [the \"hms\" website](https://hms.tidyverse.org/) for a brief overview of the package, and use the `hms()`, `as_hms()`, and `now()` functions to answer the question."
   ]
  },
  {
   "cell_type": "code",
   "execution_count": null,
   "id": "6f2131d2-7351-4916-930d-0379c531c46b",
   "metadata": {},
   "outputs": [],
   "source": [
    "# YOUR CODE HERE"
   ]
  }
 ],
 "metadata": {
  "kernelspec": {
   "display_name": "R",
   "language": "R",
   "name": "ir"
  },
  "language_info": {
   "codemirror_mode": "r",
   "file_extension": ".r",
   "mimetype": "text/x-r-source",
   "name": "R",
   "pygments_lexer": "r",
   "version": "4.0.5"
  }
 },
 "nbformat": 4,
 "nbformat_minor": 5
}

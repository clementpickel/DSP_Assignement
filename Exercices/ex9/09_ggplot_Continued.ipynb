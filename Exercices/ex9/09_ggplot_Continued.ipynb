{
 "cells": [
  {
   "cell_type": "markdown",
   "id": "9de3dbe1",
   "metadata": {},
   "source": [
    "*Prepared for the course \"TDPS22: Data Science Programming\" at Jönköping University, Teacher: [Marcel Bollmann](mailto:marcel.bollmann@ju.se)*\n",
    "\n",
    "# Exercise 9: Data Visualization with ggplot2, continued\n",
    "\n",
    "This notebook contains more exercises on data visualization, focusing on tweaking and customizing plots, as well as more advanced scenarios that require the combination of data manipulation and plotting.\n",
    "\n",
    "### Learning Goals\n",
    "\n",
    "- Understand _how to tweak and customize the appearance_ of plots created with ggplot2.\n",
    "- Understand _how to combine data manipulation and plotting_ to create a desired visualization.\n",
    "\n",
    "### Useful Resources\n",
    "\n",
    "+ [§28 \"Graphics for communication\" in _R for Data Science_](https://r4ds.had.co.nz/graphics-for-communication.html)\n",
    "+ [RStudio Cheatsheets](https://www.rstudio.com/resources/cheatsheets/)\n",
    "\n",
    "- - -\n"
   ]
  },
  {
   "cell_type": "code",
   "execution_count": null,
   "id": "ab5ad40d",
   "metadata": {},
   "outputs": [],
   "source": [
    "library(tidyverse)\n",
    "library(lubridate)"
   ]
  },
  {
   "cell_type": "markdown",
   "id": "1e8698eb-9557-45e6-a2d7-7884eb5aa428",
   "metadata": {},
   "source": [
    "- - -\n",
    "\n",
    "### Datasets\n",
    "\n",
    "We're re-using the coffee chain dataset (just the first one) and the Yu-Gi-Oh! dataset."
   ]
  },
  {
   "cell_type": "code",
   "execution_count": null,
   "id": "bc2c269f-4569-469c-9e3d-c3105bca6679",
   "metadata": {},
   "outputs": [],
   "source": [
    "coffee <- read_csv(\"data/coffee-chain.csv\", col_types=\"cfffiii\") %>% mutate(Ddate = mdy(Ddate))\n",
    "yugioh <- read_csv(\"data/yu-gi-oh.csv\", col_types=\"cffiii\")"
   ]
  },
  {
   "cell_type": "markdown",
   "id": "7a117cd1-4951-475b-9e81-c5cc6bba2e31",
   "metadata": {},
   "source": [
    "- - - \n",
    "\n",
    "## Customizing plots\n",
    "\n",
    "Remember that in Exercise 3, we created a point plot from the Yu-Gi-Oh! dataset that showed the _attack_ and _defense_ points of the cards, with the _level_ shown in color:\n",
    "\n",
    "<div style=\"padding:1em\">\n",
    "<img src=\"03_yugioh_scatterplot.png\" width=\"500\"/>\n",
    "</div>\n",
    "\n",
    "Let's use this as an example of how to customize various aspects of a plot in ggplot2.  We'll start from this basic point plot, and add on more and more customizations, generally following [Chapter 28](https://r4ds.had.co.nz/graphics-for-communication.html) of the book:"
   ]
  },
  {
   "cell_type": "code",
   "execution_count": null,
   "id": "aa78a81a-628c-42d2-8fa0-8e2066dcb942",
   "metadata": {},
   "outputs": [],
   "source": [
    "ggplot(yugioh, aes(x = Attack_Points, y = Defense_Points)) +\n",
    "  geom_point()"
   ]
  },
  {
   "cell_type": "markdown",
   "id": "6eb170fd-b16e-46fd-bc56-d1c756b34148",
   "metadata": {},
   "source": [
    "_Note:_ If you don't want to keep copy-pasting your previous code for every new task below, you could:\n",
    "\n",
    "- wrap the basic plot generation in a function; or \n",
    "- use the `last_plot()` command to keep adding to the last plot you generated!"
   ]
  },
  {
   "cell_type": "markdown",
   "id": "b1f9f3c0-1a72-41ae-8761-649e97678f63",
   "metadata": {},
   "source": [
    "**1. Show the \"Level\" variable in color and make the points slightly larger!** The plot above is still missing the color-coded _level_, and also, the points are relatively thin. How can you modify the `geom_point` call to fix this?"
   ]
  },
  {
   "cell_type": "code",
   "execution_count": null,
   "id": "20d32151-8823-4c14-8376-101fb191fe36",
   "metadata": {},
   "outputs": [],
   "source": [
    "# YOUR CODE HERE"
   ]
  },
  {
   "cell_type": "markdown",
   "id": "dced3b89-8e9f-4074-bfef-8429ca59f1ca",
   "metadata": {},
   "source": [
    "**2. Add labels to the plot & the axes!** Add a title, subtitle, caption, and customize the labels for the $x$- and $y$-axes as well as the color scale. It doesn't matter so much what exactly you put in it, but try to come up with meaningful descriptions for each."
   ]
  },
  {
   "cell_type": "code",
   "execution_count": null,
   "id": "a6cec99d-228b-41a6-b1f8-50cd746f551a",
   "metadata": {},
   "outputs": [],
   "source": [
    "# YOUR CODE HERE"
   ]
  },
  {
   "cell_type": "markdown",
   "id": "c76d9e27-269f-4265-8d18-3ba19f7f8bb7",
   "metadata": {},
   "source": [
    "**3. Modify both $x$- and $y$-axis to go between $[0, 3000]$ and have _major ticks_ (with labels) every 500 points, and _minor ticks_ (without labels) every 100 points!** Unfortunately, the book only describes how to customize major ticks. This might be because ggplot2 uses the term \"breaks\" instead of \"ticks\", and \"minor breaks\" show up as background lines rather than actual ticks in the default ggplot2 themes. Still, if you look up the help for the function you need to call, you should find the equivalent parameters for \"minor breaks\" as well."
   ]
  },
  {
   "cell_type": "code",
   "execution_count": null,
   "id": "90609f30-85fd-40f8-a505-b32c07bb820e",
   "metadata": {},
   "outputs": [],
   "source": [
    "# YOUR CODE HERE"
   ]
  },
  {
   "cell_type": "markdown",
   "id": "d9493cab-26ee-4ba2-8c80-6c750332be64",
   "metadata": {},
   "source": [
    "**4. Modify the color scale to use something _other than blue_, and to have _darker_ shades the _higher_ the level is!** You should see that the default scale picked by ggplot2 has dark blue for the bottom end of the scale (i.e., level 1) and lighter blue for the top end of the scale (i.e., level 8). Try to modify this by (i) picking some other color palette than the default and (ii) making sure that the _darker_ end of the scale corresponds to _higher_ levels.\n",
    "\n",
    "(_Note:_ There are many different color scale functions in ggplot2. You could look at `scale_color_brewer()`, `scale_color_distiller()`, `scale_fill_gradient()`, or `scale_color_gradient()`. **Only two of these work** for the plot we're currently creating. If you understand which ones work in this case & why the others don't, you'll have a good grasp of color scales in ggplot2!)"
   ]
  },
  {
   "cell_type": "code",
   "execution_count": null,
   "id": "7cf28642-5dd4-4661-9cc2-d8ba8be4f0c8",
   "metadata": {},
   "outputs": [],
   "source": [
    "# YOUR CODE HERE"
   ]
  },
  {
   "cell_type": "markdown",
   "id": "26d347e7-ac3f-4191-b61e-f3bcc0c9f89c",
   "metadata": {},
   "source": [
    "**5. Change the _theme_ and the _aspect ratio_ of the plot!** Changing the theme is described in the book; try out different options and pick something other than the default. Changing the aspect ratio must be done separately with the `theme()` function. Try to change it so the plot becomes slightly _wider_."
   ]
  },
  {
   "cell_type": "code",
   "execution_count": null,
   "id": "3c8715e6-0036-4a37-be2e-0976d517a52a",
   "metadata": {},
   "outputs": [],
   "source": [
    "# YOUR CODE HERE"
   ]
  },
  {
   "cell_type": "markdown",
   "id": "1fc9642b-8d4e-4973-b0ce-639c6cb9e72b",
   "metadata": {},
   "source": [
    "**6. Add _annotations_ for selected data points and _circle_ them to make them stand out!** Here is a vector with three Yu-Gi-Oh! card names:"
   ]
  },
  {
   "cell_type": "code",
   "execution_count": null,
   "id": "9bd66e01-8cc3-48fd-a165-1655780bbc25",
   "metadata": {},
   "outputs": [],
   "source": [
    "names <- c(\"Millennium Shield\", \"Baby Dragon\", \"Dark Magician\")"
   ]
  },
  {
   "cell_type": "markdown",
   "id": "524c4ebb-5b9d-49ff-beec-14d69be7ce47",
   "metadata": {},
   "source": [
    "Your task is to add _text annotations_ to the plot next to the data points that correspond to the card with the respective name. You should also add _larger circles_ around the data points so that it's easy to see which ones they are. Both of these techniques are described together in the book.\n",
    "\n",
    "(_Note:_ You don't have to use the `ggrepel` library that is suggested in the book, but if you do, don't forget that you have to explicitly install & load the package first. On my system, I also had to install the `pillar` package first, because I would get error messages otherwise. If you run into similar/other issues, stick with the ggplot2 functions.)"
   ]
  },
  {
   "cell_type": "code",
   "execution_count": null,
   "id": "5da2bca7-c70a-48ae-9de7-2f1b45a27fab",
   "metadata": {},
   "outputs": [],
   "source": [
    "# YOUR CODE HERE"
   ]
  },
  {
   "cell_type": "markdown",
   "id": "4fc6d6dd-6eb3-45e1-b046-cf4a42f60f6a",
   "metadata": {},
   "source": [
    "**7. Make the legend for \"Level\" appear with _discrete_ values instead of a gradient!** Currently, you should see the legend for the \"Level\" variable as a color gradient on the right-hand side of the plot. In our Seaborn plot, the individual levels (1 to 8) showed up as individual, discrete points. How can we achieve the same thing in ggplot2?\n",
    "\n",
    "There are two ways you could approach this:\n",
    "\n",
    "- Convert \"Level\" into a **factor**, so that it is a discrete-valued variable, then re-create the plot making sure to change the color scale functions to match.\n",
    "- Modify the call to your `scale_color_*` function to change the way the legend is shown. Look in the help to figure out which parameters you need to change. (You probably have to change two.)"
   ]
  },
  {
   "cell_type": "code",
   "execution_count": null,
   "id": "f5839b9b-94d5-4a39-b069-740e24cd4166",
   "metadata": {},
   "outputs": [],
   "source": [
    "# YOUR CODE HERE"
   ]
  },
  {
   "cell_type": "markdown",
   "id": "ab270def-6341-485c-8554-0a5221afa696",
   "metadata": {},
   "source": [
    "- - - \n",
    "\n",
    "## Recreating the Coffee Chain visualisation from Exercise 3\n",
    "\n",
    "In Exercise 3, we created the following plot using Python and Seaborn:\n",
    "\n",
    "<div style=\"padding:1em\">\n",
    "<img src=\"coffee-vis-ci.png\" width=\"500\"/>\n",
    "</div>\n",
    "\n",
    "In this exercise, we'll try to recreate a _similar_ plot with ggplot2, first **without** the confidence intervals (or \"error bands\"), then **with** the confidence intervals. You'll find that this requires a very different approach compared to Seaborn, as Seaborn performs a lot of steps (data aggregation, confidence interval estimation) automatically \"behind the scenes\". With ggplot, you will have to perform most of these steps explicitly yourself, so you'll need to combine what you learned about _data manipulation_ with what you learned about _plotting_."
   ]
  },
  {
   "cell_type": "markdown",
   "id": "0eec5a1d-f44a-4a58-9a17-038e4b1f40d9",
   "metadata": {},
   "source": [
    "**8. Create a plot showing the _average_ sales, profits, and expenses per day.** Your plot does _not_ have to look exactly like the Seaborn one, and it does _not need to have error bands/confidence intervals yet_, but it should otherwise convey the same information. That means:\n",
    "\n",
    "- The date should be shown on the $x$-axis, and the quantity (of sales etc.) on the $y$-axis.\n",
    "- The lines should show the _average_ of the respective quantity for the given date.\n",
    "- The lines for the three quantities (sales, profits, expenses) should be distinguished by _color_ and _line style_.\n",
    "- The $x$-axis should have a label on _at least_ every 3 months. (_Note:_ This requires another `scale_x_*` function you haven't used yet. You don't need to rotate the labels like in the Seaborn example, but you could do it with the `theme()` function.)\n",
    "- The $y$-axis should go from $0$ to $400$ and have the same _ticks_ and _tick labels_, i.e., a major tick (with label) every 50 steps, and minor ticks every 10 steps.\n",
    "\n",
    "I suggest to solve this in two steps: _first_ make a table with the exact, aggregated data you want to plot; _then_ make the plot. Such a table could, for example, look like this:\n",
    "\n",
    "| Ddate      | Quantity     | Mean            |\n",
    "|------------|--------------|-----------------|\n",
    "| `<date>`   | `<fct>`      | `<dbl>`         |\n",
    "| 2012-01-01 | Sales        | 164.90088       |\n",
    "| 2012-01-01 | Profit       | 53.64425        |\n",
    "| 2012-01-01 | Expenses     | 50.62124        |\n",
    "| ...        | ...          | ...             |\n",
    "\n"
   ]
  },
  {
   "cell_type": "code",
   "execution_count": null,
   "id": "a792b61e-d657-4153-a0eb-5b13cd8932f9",
   "metadata": {},
   "outputs": [],
   "source": [
    "# YOUR CODE HERE"
   ]
  },
  {
   "cell_type": "markdown",
   "id": "f88bd8d6-e26c-43fb-a3b3-f591ccc42955",
   "metadata": {},
   "source": [
    "**9. Create the same plot _with confidence intervals_!** To find the right geom function for plotting the band, take a look at the [Data visualization cheatsheet](https://www.rstudio.com/resources/cheatsheets/). To compute the confidence intervals, you can use the following function:"
   ]
  },
  {
   "cell_type": "code",
   "execution_count": null,
   "id": "de5bce9d-48aa-4672-924e-a8ec3ff8dcbe",
   "metadata": {},
   "outputs": [],
   "source": [
    "computeCI <- function(data) {\n",
    "    # Compute a 95% confidence interval, following: https://r-graphics.org/recipe-dataprep-summarize-se\n",
    "    sd(data) / sqrt(length(data)) * qt(.975, length(data) - 1)\n",
    "}"
   ]
  },
  {
   "cell_type": "markdown",
   "id": "b223f5a1-eb72-4726-851f-538136fc96ce",
   "metadata": {},
   "source": [
    "As an example, if the `mean()` for a given date and quantity is 100, and `computeCI()` is 5, then the interval that should be plotted is $[95, 105]$.\n",
    "\n",
    "If you produced a **table** in Q8 like shown in the description, the best way to start would be by _adding a column_ for `computeCI()` to the table."
   ]
  },
  {
   "cell_type": "code",
   "execution_count": null,
   "id": "061a47f9-eb12-4990-a586-b2e42ede9146",
   "metadata": {},
   "outputs": [],
   "source": [
    "# YOUR CODE HERE"
   ]
  },
  {
   "cell_type": "code",
   "execution_count": null,
   "id": "8b6c4362-8f96-4456-a3a9-e3700dc0cf28",
   "metadata": {},
   "outputs": [],
   "source": []
  }
 ],
 "metadata": {
  "kernelspec": {
   "display_name": "R",
   "language": "R",
   "name": "ir"
  },
  "language_info": {
   "codemirror_mode": "r",
   "file_extension": ".r",
   "mimetype": "text/x-r-source",
   "name": "R",
   "pygments_lexer": "r",
   "version": "4.0.5"
  }
 },
 "nbformat": 4,
 "nbformat_minor": 5
}

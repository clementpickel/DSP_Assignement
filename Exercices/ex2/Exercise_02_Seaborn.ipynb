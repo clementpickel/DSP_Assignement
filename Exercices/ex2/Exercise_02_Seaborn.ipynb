{
 "cells": [
  {
   "cell_type": "markdown",
   "id": "9de3dbe1",
   "metadata": {},
   "source": [
    "*Prepared for the course \"TDPS22: Data Science Programming\" at Jönköping University, Teacher: [Marcel Bollmann](mailto:marcel.bollmann@ju.se)*\n",
    "\n",
    "# Exercise 2: Visualization with Seaborn for Exploratory Data Analysis\n",
    "\n",
    "\n",
    "This notebook contains exercises on data visualization using the Seaborn library. In particular, we'll focus on _exploratory data analysis:_ trying to understand your dataset better by producing plots. This exercise focuses on what different plot types there are, how to use them, and what they mean.\n",
    "\n",
    "### Learning Goals\n",
    "\n",
    "- Understand how to produce plots with the help of the Seaborn API.\n",
    "- Know how to _find the right Seaborn functions_ for a given plot type.\n",
    "- Know how to _interpret common plot types_ provided by Seaborn.\n",
    "\n",
    "### Useful Resources\n",
    "\n",
    "+ [\"Visualization with Seaborn\" in the Python Data Science Handbook](https://jakevdp.github.io/PythonDataScienceHandbook/04.14-visualization-with-seaborn.html)\n",
    "+ [\"Plotting with Pandas and Seaborn\" in Python for Data Analysis](https://wesmckinney.com/book/plotting-and-visualization.html#vis_pandas)\n",
    "+ [Seaborn User Guide & Tutorial](https://seaborn.pydata.org/tutorial.html)\n"
   ]
  },
  {
   "cell_type": "code",
   "execution_count": 1,
   "id": "3bfe9819",
   "metadata": {
    "tags": [
     "hide-input"
    ]
   },
   "outputs": [],
   "source": [
    "try:\n",
    "    from rich import load_ipython_extension\n",
    "    %load_ext rich\n",
    "except ImportError:\n",
    "    try:\n",
    "        from rich import pretty\n",
    "        pretty.install()\n",
    "    except ImportError:\n",
    "        pass"
   ]
  },
  {
   "cell_type": "code",
   "execution_count": 2,
   "id": "60a64316",
   "metadata": {},
   "outputs": [],
   "source": [
    "%matplotlib inline\n",
    "import pandas as pd\n",
    "import seaborn as sns\n",
    "\n",
    "sns.set()"
   ]
  },
  {
   "cell_type": "code",
   "execution_count": 3,
   "id": "086c7ae6",
   "metadata": {},
   "outputs": [
    {
     "data": {
      "text/html": [
       "<div>\n",
       "<style scoped>\n",
       "    .dataframe tbody tr th:only-of-type {\n",
       "        vertical-align: middle;\n",
       "    }\n",
       "\n",
       "    .dataframe tbody tr th {\n",
       "        vertical-align: top;\n",
       "    }\n",
       "\n",
       "    .dataframe thead th {\n",
       "        text-align: right;\n",
       "    }\n",
       "</style>\n",
       "<table border=\"1\" class=\"dataframe\">\n",
       "  <thead>\n",
       "    <tr style=\"text-align: right;\">\n",
       "      <th></th>\n",
       "      <th>species</th>\n",
       "      <th>island</th>\n",
       "      <th>bill_length_mm</th>\n",
       "      <th>bill_depth_mm</th>\n",
       "      <th>flipper_length_mm</th>\n",
       "      <th>body_mass_g</th>\n",
       "      <th>sex</th>\n",
       "    </tr>\n",
       "  </thead>\n",
       "  <tbody>\n",
       "    <tr>\n",
       "      <th>0</th>\n",
       "      <td>Adelie</td>\n",
       "      <td>Torgersen</td>\n",
       "      <td>39.1</td>\n",
       "      <td>18.7</td>\n",
       "      <td>181.0</td>\n",
       "      <td>3750.0</td>\n",
       "      <td>Male</td>\n",
       "    </tr>\n",
       "    <tr>\n",
       "      <th>1</th>\n",
       "      <td>Adelie</td>\n",
       "      <td>Torgersen</td>\n",
       "      <td>39.5</td>\n",
       "      <td>17.4</td>\n",
       "      <td>186.0</td>\n",
       "      <td>3800.0</td>\n",
       "      <td>Female</td>\n",
       "    </tr>\n",
       "    <tr>\n",
       "      <th>2</th>\n",
       "      <td>Adelie</td>\n",
       "      <td>Torgersen</td>\n",
       "      <td>40.3</td>\n",
       "      <td>18.0</td>\n",
       "      <td>195.0</td>\n",
       "      <td>3250.0</td>\n",
       "      <td>Female</td>\n",
       "    </tr>\n",
       "    <tr>\n",
       "      <th>3</th>\n",
       "      <td>Adelie</td>\n",
       "      <td>Torgersen</td>\n",
       "      <td>NaN</td>\n",
       "      <td>NaN</td>\n",
       "      <td>NaN</td>\n",
       "      <td>NaN</td>\n",
       "      <td>NaN</td>\n",
       "    </tr>\n",
       "    <tr>\n",
       "      <th>4</th>\n",
       "      <td>Adelie</td>\n",
       "      <td>Torgersen</td>\n",
       "      <td>36.7</td>\n",
       "      <td>19.3</td>\n",
       "      <td>193.0</td>\n",
       "      <td>3450.0</td>\n",
       "      <td>Female</td>\n",
       "    </tr>\n",
       "    <tr>\n",
       "      <th>...</th>\n",
       "      <td>...</td>\n",
       "      <td>...</td>\n",
       "      <td>...</td>\n",
       "      <td>...</td>\n",
       "      <td>...</td>\n",
       "      <td>...</td>\n",
       "      <td>...</td>\n",
       "    </tr>\n",
       "    <tr>\n",
       "      <th>339</th>\n",
       "      <td>Gentoo</td>\n",
       "      <td>Biscoe</td>\n",
       "      <td>NaN</td>\n",
       "      <td>NaN</td>\n",
       "      <td>NaN</td>\n",
       "      <td>NaN</td>\n",
       "      <td>NaN</td>\n",
       "    </tr>\n",
       "    <tr>\n",
       "      <th>340</th>\n",
       "      <td>Gentoo</td>\n",
       "      <td>Biscoe</td>\n",
       "      <td>46.8</td>\n",
       "      <td>14.3</td>\n",
       "      <td>215.0</td>\n",
       "      <td>4850.0</td>\n",
       "      <td>Female</td>\n",
       "    </tr>\n",
       "    <tr>\n",
       "      <th>341</th>\n",
       "      <td>Gentoo</td>\n",
       "      <td>Biscoe</td>\n",
       "      <td>50.4</td>\n",
       "      <td>15.7</td>\n",
       "      <td>222.0</td>\n",
       "      <td>5750.0</td>\n",
       "      <td>Male</td>\n",
       "    </tr>\n",
       "    <tr>\n",
       "      <th>342</th>\n",
       "      <td>Gentoo</td>\n",
       "      <td>Biscoe</td>\n",
       "      <td>45.2</td>\n",
       "      <td>14.8</td>\n",
       "      <td>212.0</td>\n",
       "      <td>5200.0</td>\n",
       "      <td>Female</td>\n",
       "    </tr>\n",
       "    <tr>\n",
       "      <th>343</th>\n",
       "      <td>Gentoo</td>\n",
       "      <td>Biscoe</td>\n",
       "      <td>49.9</td>\n",
       "      <td>16.1</td>\n",
       "      <td>213.0</td>\n",
       "      <td>5400.0</td>\n",
       "      <td>Male</td>\n",
       "    </tr>\n",
       "  </tbody>\n",
       "</table>\n",
       "<p>344 rows × 7 columns</p>\n",
       "</div>"
      ]
     },
     "execution_count": 3,
     "metadata": {},
     "output_type": "execute_result"
    }
   ],
   "source": [
    "# Load a predefined dataset from Seaborn\n",
    "df = sns.load_dataset(\"penguins\")\n",
    "df"
   ]
  },
  {
   "cell_type": "markdown",
   "id": "dbaa2fa4",
   "metadata": {},
   "source": [
    "- - - \n",
    "## Data cleaning\n",
    "\n",
    "We can already see from the preview of `df` above that this dataset contains null values (`NaN`)! Let's recall our Pandas skills to tidy this up before we do anything else.\n",
    "\n",
    "#### Useful Reference\n",
    "\n",
    "+ [\"Handling Missing Data\" in the Python Data Science Handbook](https://jakevdp.github.io/PythonDataScienceHandbook/03.04-missing-values.html)"
   ]
  },
  {
   "cell_type": "markdown",
   "id": "b89edfbc",
   "metadata": {},
   "source": [
    "**1. How many `NaN` values are there in each column?** This information might help us decide what strategy we want to use for cleaning the dataset."
   ]
  },
  {
   "cell_type": "code",
   "execution_count": 4,
   "id": "e1e327cc",
   "metadata": {},
   "outputs": [],
   "source": [
    "# Your code here"
   ]
  },
  {
   "cell_type": "markdown",
   "id": "780f0a06",
   "metadata": {},
   "source": [
    "**2. Drop all rows that contain `NaN` values from the dataset.** Make sure to assign the result to `df` so that for the remaining exercises, we're working with the cleaned dataset."
   ]
  },
  {
   "cell_type": "code",
   "execution_count": 5,
   "id": "b2916b2f",
   "metadata": {},
   "outputs": [],
   "source": [
    "# Your code here"
   ]
  },
  {
   "cell_type": "markdown",
   "id": "d66b5746",
   "metadata": {},
   "source": [
    "**3. Find out which unique values there are for `species` and `island`, as well as the min/max/mean of the numeric columns.** This might be helpful in deciding how to visualize this dataset later!"
   ]
  },
  {
   "cell_type": "code",
   "execution_count": 6,
   "id": "41d08600",
   "metadata": {},
   "outputs": [],
   "source": [
    "# Your code here"
   ]
  },
  {
   "cell_type": "markdown",
   "id": "a075938d",
   "metadata": {},
   "source": [
    "- - -\n",
    "## Plotting data distributions\n",
    "\n",
    "Let's get a better what the idea looks like by visualizing it!\n",
    "Maybe we want to know more about the **distribution** of our data. With functions like `df.describe()`, we already get a rough overview about minima, maxima, quantiles, averages, etc. – but plots can give us an ever better picture of the data.\n",
    "\n",
    "#### Useful References\n",
    "\n",
    "+ [\"Plotting with Pandas and Seaborn\" in Python for Data Analysis](https://wesmckinney.com/book/plotting-and-visualization.html#vis_pandas)\n",
    "+ [\"Visualizing distributions of data\" in the Seaborn tutorial](https://seaborn.pydata.org/tutorial/distributions.html)"
   ]
  },
  {
   "cell_type": "markdown",
   "id": "43427e65",
   "metadata": {},
   "source": [
    "**4. Produce a histogram of the penguins' _body mass_ measurements with 12 bins.**  You could do this by using (a) the Pandas API, or (b) the Seaborn API. In practice (and in the assignments/exam), it does not matter _how_ you arrive at a solution – but it can be a good exercise to try out different ways to achieve the same result. How do the plots generated by these two different methods differ? Could you explain what they tell us about the distribution of the body mass?"
   ]
  },
  {
   "cell_type": "code",
   "execution_count": 7,
   "id": "2f5248bf",
   "metadata": {},
   "outputs": [],
   "source": [
    "# Your code here - using Pandas API"
   ]
  },
  {
   "cell_type": "code",
   "execution_count": 8,
   "id": "8cf37738",
   "metadata": {},
   "outputs": [],
   "source": [
    "# Your code here - using Seaborn API"
   ]
  },
  {
   "cell_type": "markdown",
   "id": "06e690b8",
   "metadata": {},
   "source": [
    "**5. Produce a histogram of _body mass_ that also conditions on _sex_.** In other words, play around with visualizations that show the distribution of body mass separately for male and female penguins.\n",
    "\n",
    "There are different ways to do this: one is by using different colors (hues) in the histogram to distinguish male and female penguins. Seaborn makes this really, really easy! Focus on the Seaborn tutorial pages to figure out how to do this, and try out the different options Seaborn provides to combine the histogram bars (e.g., \"stacking\" vs. \"layering\" vs. \"dodging\"). Which option, in your opinion, provides the most useful visualization in this case?"
   ]
  },
  {
   "cell_type": "code",
   "execution_count": 9,
   "id": "9be00f95",
   "metadata": {},
   "outputs": [],
   "source": [
    "# Your code here"
   ]
  },
  {
   "cell_type": "markdown",
   "id": "a045a5b9",
   "metadata": {},
   "source": [
    "**6. Do the same but with different variables, e.g., \"bill length\" instead of \"body mass\", or \"species\" instead of \"sex\" as the conditional variable.** Remember, this is exploratory data analysis – you're trying to learn something about the dataset and get a better feel for how the data is distributed. There is no \"right\" or \"wrong\" plot to produce here, just plots that may be more or less useful for understanding the dataset."
   ]
  },
  {
   "cell_type": "code",
   "execution_count": 10,
   "id": "ddd12ebd",
   "metadata": {},
   "outputs": [],
   "source": [
    "# Your code here"
   ]
  },
  {
   "cell_type": "markdown",
   "id": "0d0f7512",
   "metadata": {},
   "source": [
    "**7. Turn one of your histograms into a KDE plot.** Again, Seaborn makes this easy by just changing one keyword argument. But what does that KDE plot tell you? How does it differ from the histogram? Which one do you find more useful on the variables you looked at?"
   ]
  },
  {
   "cell_type": "code",
   "execution_count": 11,
   "id": "f2657d04",
   "metadata": {},
   "outputs": [],
   "source": [
    "# Your code here"
   ]
  },
  {
   "cell_type": "markdown",
   "id": "a7ebeb97",
   "metadata": {},
   "source": [
    "- - -\n",
    "## Plotting relationships between variables\n",
    "\n",
    "Previously, we visualized the distribution of one _numeric_ variable, optionally conditioned on one _categorical_ variable. Now, let's extend this to plot relationships between multiple numeric and/or categorical variables.\n",
    "\n",
    "#### Useful References\n",
    "\n",
    "+ [\"Plotting with Pandas and Seaborn\" in Python for Data Analysis](https://wesmckinney.com/book/plotting-and-visualization.html#vis_pandas)\n",
    "+ [\"Visualizing statistical relationships\" in the Seaborn tutorial](https://seaborn.pydata.org/tutorial/relational.html)\n",
    "+ [\"Visualizing regression models\" in the Seaborn tutorial](https://seaborn.pydata.org/tutorial/regression.html#visualizing-regression-models)"
   ]
  },
  {
   "cell_type": "markdown",
   "id": "8d26638c",
   "metadata": {},
   "source": [
    "Let's show the relationship between two _numeric_ variables:\n",
    "\n",
    "**8. Make a scatter plot showing the relationship between _bill length_ and _body mass_.** For example, you could show the bill length on the *x*-axis and the body mass on the *y*-axis."
   ]
  },
  {
   "cell_type": "code",
   "execution_count": 12,
   "id": "3a1be98f",
   "metadata": {},
   "outputs": [],
   "source": [
    "# Your code here"
   ]
  },
  {
   "cell_type": "markdown",
   "id": "d320cec1",
   "metadata": {},
   "source": [
    "Let's add a categorical variable, so that we're now visualizing _three_ different variables in one plot:\n",
    "\n",
    "**9. Make the same scatter plot as in Q8, but add _color_ (or, as Seaborn calls it, _hue_) to condition on the _species_ of the penguins.**"
   ]
  },
  {
   "cell_type": "code",
   "execution_count": 13,
   "id": "2f9f98c9",
   "metadata": {},
   "outputs": [],
   "source": [
    "# Your code here"
   ]
  },
  {
   "cell_type": "markdown",
   "id": "d15053e4",
   "metadata": {},
   "source": [
    "Seaborn can conveniently perform some basic _modelling_ on the data as well. Based on the plots above, we might feel pretty sure that there's strong correlation between _bill length_ and _body mass_, but we can also quickly perform & plot a linear regression model to support this.\n",
    "\n",
    "**10. Plot a _linear regression_ between _bill length_ and _body mass_, both with and without conditioning on the _species_.**  Note that you'll need to use a different Seaborn function for the latter case, although the parameters don't change much."
   ]
  },
  {
   "cell_type": "code",
   "execution_count": 14,
   "id": "53e3c212",
   "metadata": {},
   "outputs": [],
   "source": [
    "# Your code here - \"simple\" linear regression (WITHOUT conditioning on the species)"
   ]
  },
  {
   "cell_type": "code",
   "execution_count": 15,
   "id": "84b095c5",
   "metadata": {},
   "outputs": [],
   "source": [
    "# Your code here - multiple linear regressions (conditioning on the species)"
   ]
  },
  {
   "cell_type": "markdown",
   "id": "2eb51bb0",
   "metadata": {},
   "source": [
    "Let's extend our visualization to _four_ variables. Seaborn offers \"facet grids\" as a way to quickly produce multiple plots in a grid, where the columns (and/or rows) represent our fourth variable.\n",
    "\n",
    "**11. Make a _facet grid_ that's the same as Q9, but distinguishes the _sex_ of the penguins in separate columns.**  In other words, you should end up with two plots analogous to the plot from Q9, but the first only shows data from \"Male\" penguins, while the second only shows data from \"Female\" penguins. You don't need to do any Pandas data manipulation for that – Seaborn can plot this with a single function call!"
   ]
  },
  {
   "cell_type": "code",
   "execution_count": 16,
   "id": "63330b9e",
   "metadata": {},
   "outputs": [],
   "source": [
    "# Your code here"
   ]
  },
  {
   "cell_type": "markdown",
   "id": "364afab4",
   "metadata": {},
   "source": [
    "- - - \n",
    "## Plotting categorical data\n",
    "\n",
    "Columns like \"species\" or \"sex\" represent _categorical_ variables. We've used them in the plots above before, but let's look at some plot types specifically made for categorical data.\n",
    "\n",
    "\n",
    "#### Useful References\n",
    "\n",
    "+ [\"Plotting with Pandas and Seaborn\" in Python for Data Analysis](https://wesmckinney.com/book/plotting-and-visualization.html#vis_pandas)\n",
    "+ [\"Plotting with categorical data\" in the Seaborn tutorial](https://seaborn.pydata.org/tutorial/categorical.html)"
   ]
  },
  {
   "cell_type": "markdown",
   "id": "e02e5e22",
   "metadata": {},
   "source": [
    "We've previously looked at _histograms_ to see, e.g., the distribution of _bill length_ by _species_. We did this by distinguishing the different _species_ by color in a single histogram. We can also do that with a categorical scatter plot and/or box plot.\n",
    "\n",
    "**12. Make a _categorical scatter plot_ that uses _species_ as the categorical variable, and _bill length_ as the numeric variable.** If you haven't plotted the same relationship as a histogram already (in Q6), do this too, and compare this scatter plot and the histogram. Can you see that they visualize the same information? Which one do you find more useful here?"
   ]
  },
  {
   "cell_type": "code",
   "execution_count": 17,
   "id": "316940ca",
   "metadata": {},
   "outputs": [],
   "source": [
    "# Your code here"
   ]
  },
  {
   "cell_type": "markdown",
   "id": "a9ab1f69",
   "metadata": {},
   "source": [
    "**13. Make a _box plot_ analogous to Q12, i.e., using _species_ as the categorical variable, and _bill length_ as the numeric variable.** Do you know how to interpret the resulting plot? What do the boxes and lines mean?"
   ]
  },
  {
   "cell_type": "code",
   "execution_count": 18,
   "id": "f29905ca",
   "metadata": {},
   "outputs": [],
   "source": [
    "# Your code here"
   ]
  },
  {
   "cell_type": "markdown",
   "id": "ea0ff7ef",
   "metadata": {},
   "source": [
    "A categorical variable we haven't looked at so far is the _island_ where the penguins live. Let's see how many penguins of each _species_ live on each _island_.\n",
    "\n",
    "**14. Make a _bar plot_ showing the count of penguins, conditioned on _island_ and _species_.** (_Hint:_ Seaborn calls this a \"count plot\".)"
   ]
  },
  {
   "cell_type": "code",
   "execution_count": 19,
   "id": "b2ec7ec3",
   "metadata": {},
   "outputs": [],
   "source": [
    "# Your code here"
   ]
  },
  {
   "cell_type": "markdown",
   "id": "9cc67751",
   "metadata": {},
   "source": [
    "- - -\n",
    "## Plotting time series data\n",
    "\n",
    "**This part requires the data files from Exercise 1.**\n",
    " \n",
    "Since the Penguins dataset doesn't really contain any time series, let's turn to the coffee chain dataset from the last exercise again. We'll load it and make sure the `Ddate` column contains an actual Datetime object:"
   ]
  },
  {
   "cell_type": "code",
   "execution_count": 20,
   "id": "81112eab",
   "metadata": {},
   "outputs": [],
   "source": [
    "coffee = pd.read_csv(\"data/coffee-chain.csv\")\n",
    "coffee[\"Ddate\"] = coffee[\"Ddate\"].transform(pd.to_datetime)"
   ]
  },
  {
   "cell_type": "markdown",
   "id": "cb4f30ae",
   "metadata": {},
   "source": [
    "**15. Make a _line plot_ showing the relationship between _date_ and _sales_.**"
   ]
  },
  {
   "cell_type": "code",
   "execution_count": 21,
   "id": "47feccd3",
   "metadata": {},
   "outputs": [],
   "source": [
    "# Your code here"
   ]
  },
  {
   "cell_type": "markdown",
   "id": "c38d9b2c",
   "metadata": {},
   "source": [
    "We have several numeric values in this dataset: _sales, profit,_ and _expenses._ It would make sense to combine all three in a single plot, distinguishing them by color. But we're running into a small problem here: these observations are in different _columns_ of the DataFrame. To use precise terminology, these variables are represented as _wide-form data_.\n",
    "\n",
    "**16. Make a _line plot_ showing the relationship between _date_ and the three numeric variables _sales, profit, expenses,_ plotted as separate lines in different colors.**\n",
    "\n",
    "_Hint:_ Look at [\"Data structures accepted by seaborn\"](https://seaborn.pydata.org/tutorial/data_structure.html) to figure out how to plot _wide-form data_ as in our case here."
   ]
  },
  {
   "cell_type": "code",
   "execution_count": 22,
   "id": "001d7720",
   "metadata": {},
   "outputs": [],
   "source": [
    "# Your code here"
   ]
  }
 ],
 "metadata": {
  "kernelspec": {
   "display_name": "python3-dsp",
   "language": "python",
   "name": "python3-dsp"
  },
  "language_info": {
   "codemirror_mode": {
    "name": "ipython",
    "version": 3
   },
   "file_extension": ".py",
   "mimetype": "text/x-python",
   "name": "python",
   "nbconvert_exporter": "python",
   "pygments_lexer": "ipython3",
   "version": "3.9.12"
  }
 },
 "nbformat": 4,
 "nbformat_minor": 5
}

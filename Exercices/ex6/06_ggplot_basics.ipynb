{
 "cells": [
  {
   "cell_type": "markdown",
   "id": "9de3dbe1",
   "metadata": {},
   "source": [
    "*Prepared for the course \"TDPS22: Data Science Programming\" at Jönköping University, Teacher: [Marcel Bollmann](mailto:marcel.bollmann@ju.se)*\n",
    "\n",
    "# Exercise 6: Basics of R and ggplot2\n",
    "\n",
    "\n",
    "This notebook contains exercises on getting started with data visualization using R and ggplot2. We're following [Chapter 3 in _R for Data Science_](https://r4ds.had.co.nz/data-visualisation.html) **(when I refer to \"the book\", I always mean this one!)**, except that we'll turn to datasets that we have seen before in the Python exercises. The book jumps right into data exploration by making visualizations: don't worry if you don't understand every basic language feature of R yet, we'll practice some of those later as we need them. Our focus is the same as the book's: getting started with producing some useful output quickly, and learning more as we go.\n",
    "\n",
    "### Learning Goals\n",
    "\n",
    "- Practice _first steps_ with R, Jupyter notebooks in R, and/or R Markdown notebooks.\n",
    "- Understand _how to produce basic plots_ with R and ggplot2.\n",
    "\n",
    "### Useful Resources\n",
    "\n",
    "+ [\"Data visualisation\" in _R for Data Science_](https://r4ds.had.co.nz/data-visualisation.html)\n",
    "+ [RStudio Cheatsheets](https://www.rstudio.com/resources/cheatsheets/)\n",
    "+ [Hands-On Programming with R](https://rstudio-education.github.io/hopr/) _(as a reference)_"
   ]
  },
  {
   "cell_type": "markdown",
   "id": "718df233",
   "metadata": {},
   "source": [
    "- - -\n",
    "If you haven't yet installed the packages `palmerpenguins` (that provides the Penguins dataset we've also used in the Python exercises) and `tidyverse`, uncomment & run the following lines to install them:"
   ]
  },
  {
   "cell_type": "code",
   "execution_count": null,
   "id": "b27e6c7a",
   "metadata": {},
   "outputs": [],
   "source": [
    "#install.packages(\"palmerpenguins\")\n",
    "#install.packages(\"tidyverse\")"
   ]
  },
  {
   "cell_type": "code",
   "execution_count": null,
   "id": "ab5ad40d",
   "metadata": {},
   "outputs": [],
   "source": [
    "library(palmerpenguins)\n",
    "library(tidyverse)"
   ]
  },
  {
   "cell_type": "markdown",
   "id": "0dad8b8e-d33d-4ac9-bea9-8b56c19bc3ef",
   "metadata": {
    "tags": []
   },
   "source": [
    "- - - \n",
    "\n",
    "## First Steps\n",
    "\n",
    "If you installed and loaded the `palmerpenguins` library successfully, you should now have the Penguins dataset in a variable called `penguins`:"
   ]
  },
  {
   "cell_type": "code",
   "execution_count": null,
   "id": "4f4fa33a-f0d1-4d7c-b907-403d6eea7e42",
   "metadata": {},
   "outputs": [],
   "source": [
    "penguins"
   ]
  },
  {
   "cell_type": "markdown",
   "id": "3a31413b-c7da-405d-9596-17511838e080",
   "metadata": {},
   "source": [
    "**1. Look up help/documentation for the Penguins dataset by running `?penguins`.** You can prefix any command or variable with a question mark to look up help/documentation for it. Where it shows up depends on your environment: in Jupyter notebooks, it will appear below the cell; in R Studio, it will show up in the separate \"Help\" tab."
   ]
  },
  {
   "cell_type": "code",
   "execution_count": null,
   "id": "7396ef21-ca58-4e13-92a5-39dcb736108d",
   "metadata": {},
   "outputs": [],
   "source": [
    "# YOUR CODE HERE"
   ]
  },
  {
   "cell_type": "markdown",
   "id": "0854fb0e-b1c1-460b-8e7c-10a14e93dea9",
   "metadata": {},
   "source": [
    "**2. Familiarize yourself with R by running some basic commands on the dataset:** try at least `str()`, `head()`, `tail()`, `names()`. Do you understand their output? If not, remember you can look up documentation by prefixing the command name with a question mark, e.g. `?str`."
   ]
  },
  {
   "cell_type": "code",
   "execution_count": null,
   "id": "1f91e796-1ade-407e-a6f4-9d1994ade7eb",
   "metadata": {},
   "outputs": [],
   "source": [
    "# YOUR CODE HERE"
   ]
  },
  {
   "cell_type": "markdown",
   "id": "c385c7fa-5058-4464-b2d1-2d52c0663b14",
   "metadata": {},
   "source": [
    "**3. Drop rows containing missing values.** This is not mentioned in §3 of the book yet, but we're going to do it here already to get rid of some warnings we'll otherwise see when we work with the data. The function you need is simply called `drop_na()`; call this function on the penguins dataset **and assign the result to the `penguins` variable again**."
   ]
  },
  {
   "cell_type": "code",
   "execution_count": null,
   "id": "2ee7c923-fe48-4938-b69c-84d46bdf327f",
   "metadata": {},
   "outputs": [],
   "source": [
    "# YOUR CODE HERE"
   ]
  },
  {
   "cell_type": "markdown",
   "id": "6fea6c56-3de9-4fa3-b122-3aed09a52cd9",
   "metadata": {},
   "source": [
    "**4. Make your first scatter plot!** Follow the code in §3.2.2 of the book, but use the `penguins` dataset instead, and pick any two numeric columns of the Penguins dataset for the $x$- and $y$-axis."
   ]
  },
  {
   "cell_type": "code",
   "execution_count": null,
   "id": "ef205f4f-57d7-47d6-a064-723ca2ed5646",
   "metadata": {},
   "outputs": [],
   "source": [
    "# YOUR CODE HERE"
   ]
  },
  {
   "cell_type": "markdown",
   "id": "87454a1f-81db-4dc3-8224-6e81ac896671",
   "metadata": {
    "tags": []
   },
   "source": [
    "- - - \n",
    "\n",
    "## Aesthetic mappings and facets\n",
    "\n",
    "A core feature of plotting with ggplot2 is the concept of \"aesthetic mappings\", created with the `aes()` function. For a scatter plot (or \"point plot\"), the most basic mapping is which variable should go on the $x$- and the $y$-axis. §3.3 in the book describes many more aesthetics that we can use with point plots – let's try them all out!\n",
    "\n",
    "**5. Make at least one point plot for each of the different aesthetics!** Sometimes it's useful to test the difference between using a categorical variable (e.g. \"species\") or a continuous one (e.g. \"body_mass_g\"). Here are some suggestions:\n",
    "\n",
    " - `color` with a categorical variable\n",
    " - `color` with a continuous (numeric) variable\n",
    " - `shape` with a categorical variable\n",
    " - `size` with a continuous (numeric) variable\n",
    " - `alpha` with a continuous (numeric) variable"
   ]
  },
  {
   "cell_type": "code",
   "execution_count": null,
   "id": "c8d94fdf-d329-403b-8276-a2776e6e9d35",
   "metadata": {},
   "outputs": [],
   "source": [
    "# YOUR CODE HERE"
   ]
  },
  {
   "cell_type": "markdown",
   "id": "02bb45f3-18d9-45d4-82de-da188f45c092",
   "metadata": {},
   "source": [
    "**6. Make a point plot that visualizes _at least_ four different variables!** You can combine any number of the above-mentioned aesthetics in a single plot; however, not all combinations make sense, and not all of them result in a well-readable plot. Try to make one with at least four variables which is still readable & interpretable!"
   ]
  },
  {
   "cell_type": "code",
   "execution_count": null,
   "id": "4e2bea4b-9ea4-4a56-9db3-901d51bd3279",
   "metadata": {},
   "outputs": [],
   "source": [
    "# YOUR CODE HERE"
   ]
  },
  {
   "cell_type": "markdown",
   "id": "032bee99-3b1c-416c-a214-1baeae02e98f",
   "metadata": {},
   "source": [
    "**7. Make a point plot with three subplots, one for each \"species\" in the dataset.** Go through §3.5 in the book to learn how to do this. You can pick again any two continuous variables you like for the $x$- and $y$-axes.\n",
    "\n",
    "_(Bonus: Add `theme(aspect.ratio = 1)` to make the subplots perfectly square.)_"
   ]
  },
  {
   "cell_type": "code",
   "execution_count": null,
   "id": "b2dde0b4-5db7-48db-9104-e1fcc5eb815f",
   "metadata": {},
   "outputs": [],
   "source": [
    "# YOUR CODE HERE"
   ]
  },
  {
   "cell_type": "markdown",
   "id": "190dc9d8-9022-41aa-9320-80be71e51253",
   "metadata": {},
   "source": [
    "**8. Make a facet grid with one _row per \"species\"_ and one _column per \"sex\"_ of the penguins.** Again, pick whatever you like for the $x$- and $y$-axes."
   ]
  },
  {
   "cell_type": "code",
   "execution_count": null,
   "id": "723d823a-b28d-44c2-904c-2867a7eb1ce4",
   "metadata": {},
   "outputs": [],
   "source": [
    "# YOUR CODE HERE"
   ]
  },
  {
   "cell_type": "markdown",
   "id": "0d8b3969-a7c9-459a-b900-bf7e87a2a3c0",
   "metadata": {},
   "source": [
    "- - - \n",
    "\n",
    "## Geometric objects (\"geoms\")\n",
    "\n",
    "So far, we only made scatter plots, with `geom_point()`. §3.6 in the book introduces a second \"geom\", called `geom_smooth()`, and also talks about plotting multiple geoms on a single plot. Let's try that out!\n",
    "\n",
    "**9. Make a point plot with _flipper length_ on the $x$-axis and _body mass_ on the $y$-axis; then create the same plot, but replace `geom_point()` with `geom_smooth()`.** What do you see?"
   ]
  },
  {
   "cell_type": "code",
   "execution_count": null,
   "id": "74667751-83b6-4f23-b63a-f846b6dedb07",
   "metadata": {},
   "outputs": [],
   "source": [
    "# YOUR CODE HERE"
   ]
  },
  {
   "cell_type": "markdown",
   "id": "c38051f3-0411-482f-a98c-256e3c68735f",
   "metadata": {},
   "source": [
    "**10. Make a plot that has both the points _and_ the smoothed estimator in a _single plot_!**  How can you do that without specifying the aesthetic mapping twice in your code?"
   ]
  },
  {
   "cell_type": "code",
   "execution_count": null,
   "id": "32a031f2-cd25-47b3-afa7-9072e5c1acbf",
   "metadata": {},
   "outputs": [],
   "source": [
    "# YOUR CODE HERE"
   ]
  },
  {
   "cell_type": "markdown",
   "id": "f28d2af8-977d-491d-b0b6-34e87292a5cc",
   "metadata": {},
   "source": [
    "**11. Modify the previous plot by _turning off the confidence interval_ in the smoothed plot.** The book has an example how to do that, but you can also look at the help for the `geom_smooth()` function to find the solution."
   ]
  },
  {
   "cell_type": "code",
   "execution_count": null,
   "id": "879d31e6-40b1-409c-9a03-2adc8294b3cf",
   "metadata": {},
   "outputs": [],
   "source": [
    "# YOUR CODE HERE"
   ]
  },
  {
   "cell_type": "markdown",
   "id": "35798b2e-f2ae-46b5-a672-52633e8de0bc",
   "metadata": {},
   "source": [
    "**12. Make a combined point + smoothed estimator plot with the following properties:**\n",
    "\n",
    "- _flipper length_ on the $x$-axis;\n",
    "- _bill depth_ on the $y$-axis;\n",
    "- separate colors and estimator lines for _species_;\n",
    "- using \"lm\" (linear model, i.e. linear regression) as the _smoothing method_."
   ]
  },
  {
   "cell_type": "code",
   "execution_count": null,
   "id": "43092b38-c243-4d4a-91ba-e3b581ec5a11",
   "metadata": {},
   "outputs": [],
   "source": [
    "# YOUR CODE HERE"
   ]
  },
  {
   "cell_type": "markdown",
   "id": "5efc6a4e-ec92-41c1-9e55-2c70cf309b3e",
   "metadata": {},
   "source": [
    "- - - \n",
    "\n",
    "## Bar charts and more\n",
    "\n",
    "§3.7 and §3.8 talk about bar charts, and the [RStudio Cheatsheet](https://www.rstudio.com/resources/cheatsheets/) for ggplot2 provides a convenient overview of many more geometric objects. Let's try out some of them, in particular those we've already seen in the Seaborn exercises.\n",
    "\n",
    "**13. Make a bar chart that shows the number of penguins _per species_ in our dataset.** _Note:_ \"Counting\" the number of observations is the default behaviour of `geom_bar()`."
   ]
  },
  {
   "cell_type": "code",
   "execution_count": null,
   "id": "41d702d7-b52c-418c-9c13-38f4f098637a",
   "metadata": {},
   "outputs": [],
   "source": [
    "# YOUR CODE HERE"
   ]
  },
  {
   "cell_type": "markdown",
   "id": "4dcc0d7e-7bc8-4ae4-a49f-e39571cdd55f",
   "metadata": {},
   "source": [
    "**14. Make two bar charts that show the number of penguins _per species_, and additionally visualise _sex_ of the penguins in different colors.** Try to do this in at least two ways:\n",
    "\n",
    "- as a **stacked bar chart** (where the bars look the same as in Q12, but have differently colored/filled sections depending on the penguins' _sex_); and\n",
    "- as a **dodged bar chart** (where the bar sections are next to each other instead of stacked)."
   ]
  },
  {
   "cell_type": "code",
   "execution_count": null,
   "id": "78953e77-f50a-4f17-a3b7-acb7893e36ab",
   "metadata": {},
   "outputs": [],
   "source": [
    "# YOUR CODE HERE"
   ]
  },
  {
   "cell_type": "markdown",
   "id": "dd9b0c0f-2387-4d6f-8ea2-524440d02382",
   "metadata": {},
   "source": [
    "**15. Make a _histogram_ of the _bill length_ variable!** The corresponding geom is called `geom_histogram()`."
   ]
  },
  {
   "cell_type": "code",
   "execution_count": null,
   "id": "6a261d14-ddd7-4e9a-9e70-9b10cc4e84f6",
   "metadata": {},
   "outputs": [],
   "source": [
    "# YOUR CODE HERE"
   ]
  },
  {
   "cell_type": "markdown",
   "id": "22d5a708-f57b-4899-b269-b834ed8f25eb",
   "metadata": {},
   "source": [
    "**16. Make a _box plot_ using _species_ as the categorical variable, and _bill length_ as the continuous variable!** The corresponding geom is called `geom_boxplot()`."
   ]
  },
  {
   "cell_type": "code",
   "execution_count": null,
   "id": "e74d0950-1d1a-4799-912d-ae0904f33de3",
   "metadata": {},
   "outputs": [],
   "source": [
    "# YOUR CODE HERE"
   ]
  },
  {
   "cell_type": "markdown",
   "id": "e0110595-878d-4a55-9e3e-c812081401ba",
   "metadata": {},
   "source": [
    "**17. Plot a kernel density estimation (KDE) of the _flipper length_ separately _per species_.** You can distinguish the _species_ by color, line type, or both. The corresponding geom is called `geom_density()`."
   ]
  },
  {
   "cell_type": "code",
   "execution_count": null,
   "id": "10c0528d-5816-4c13-89ec-667a22ef5bbb",
   "metadata": {},
   "outputs": [],
   "source": [
    "# YOUR CODE HERE"
   ]
  }
 ],
 "metadata": {
  "kernelspec": {
   "display_name": "R",
   "language": "R",
   "name": "ir"
  },
  "language_info": {
   "codemirror_mode": "r",
   "file_extension": ".r",
   "mimetype": "text/x-r-source",
   "name": "R",
   "pygments_lexer": "r",
   "version": "4.0.5"
  }
 },
 "nbformat": 4,
 "nbformat_minor": 5
}

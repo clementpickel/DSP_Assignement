{
 "cells": [
  {
   "cell_type": "markdown",
   "id": "729c3ab1",
   "metadata": {},
   "source": [
    "*Prepared for the course \"TDPS22: Data Science Programming\" at Jönköping University, Teacher: [Marcel Bollmann](mailto:marcel.bollmann@ju.se)*\n",
    "\n",
    "# Exercise 10: Statistical Modeling\n",
    "\n",
    "This notebook contains exercises on statistical modeling in R, focusing on very basic modeling with core R functionality, R's formula syntax, as well as a basic introduction to the Tidymodels ecosystem.  In the end, I also include pointers for how to do some of the more advanced things we did in the Python exercises.\n",
    "\n",
    "### Learning Goals\n",
    "\n",
    "- Understand how to _compute, visualize, and evaluate_ simple statistical models in R.\n",
    "- Know the basics of _R's formula syntax._\n",
    "\n",
    "### Useful Resources\n",
    "\n",
    "This exercise doesn't follow the book as closely as the previous ones, but takes inspiration from the following sources:\n",
    "\n",
    "+ [§23 \"Model basics\" in _R for Data Science_](https://r4ds.had.co.nz/model-basics.html)\n",
    "+ [\"Get Started\" guide from _Tidymodels_](https://www.tidymodels.org/start/)\n",
    "+ [R Graphics Cookbook](https://r-graphics.org/)\n",
    "+ [RStudio Cheatsheets](https://www.rstudio.com/resources/cheatsheets/)\n",
    "\n",
    "- - -\n",
    "\n",
    "## Extra packages\n",
    "\n",
    "For parts of this exercise, we'll be using [Tidymodels](https://www.tidymodels.org/) and [ranger](https://www.rdocumentation.org/packages/ranger/versions/0.13.1/topics/ranger).  **I suggest installing them in a separate R session while you work on the first parts of the exercise, as they can take a while to download & install!**\n",
    "\n",
    "- If you get errors during installation, check if specific packages cause the error. On my system, I had to explicitly re-install `pillar` before I could install `tidymodels` successfully.\n",
    "- If you get errors attaching the new packages (e.g. after `library(tidymodels)`), try restarting the R kernel and load everything again."
   ]
  },
  {
   "cell_type": "code",
   "execution_count": null,
   "id": "9e62c4d1-6391-4ff7-9d32-20dfb25f94b6",
   "metadata": {},
   "outputs": [],
   "source": [
    "#install.packages(\"tidymodels\")\n",
    "#install.packages(\"ranger\")"
   ]
  },
  {
   "cell_type": "code",
   "execution_count": null,
   "id": "67aa753b-1c38-4c45-8493-a6d37931a310",
   "metadata": {},
   "outputs": [],
   "source": [
    "library(tidyverse)\n",
    "library(modelr)\n",
    "library(palmerpenguins)\n",
    "penguins <- drop_na(penguins)"
   ]
  },
  {
   "cell_type": "markdown",
   "id": "db4480ba-0fa6-41b4-9b6d-dbbe1aec2711",
   "metadata": {},
   "source": [
    "- - - \n",
    "\n",
    "## Correlation\n",
    "\n",
    "Let's start with computing and visualising correlations on the penguins dataset, which we've also seen in the Python exercises. We don't follow the book directly here, although it briefly touches on this in [§7.5](https://r4ds.had.co.nz/exploratory-data-analysis.html#covariation)."
   ]
  },
  {
   "cell_type": "markdown",
   "id": "912b4cc0-671a-4be8-85f1-99ad73380f9b",
   "metadata": {},
   "source": [
    "**1. Compute the Pearson correlation between `bill_length_mm` and `bill_depth_mm`!** Look up the documentation for `cor()` to find out how to do this. Try to do it in at least two ways: (i) calling `cor()` directly on the data; and (ii) using it in a pipe together with `summarise()`. What's the difference between these two approaches?"
   ]
  },
  {
   "cell_type": "code",
   "execution_count": null,
   "id": "79167db1-27fc-4a68-aa96-68492f946a80",
   "metadata": {},
   "outputs": [],
   "source": [
    "# YOUR CODE HERE"
   ]
  },
  {
   "cell_type": "markdown",
   "id": "626b9e82-1e4f-4610-ba60-8d7fccff6d52",
   "metadata": {},
   "source": [
    "**2. Compute the _pairwise_ Pearson correlation between all four numeric variables!** In Exercise 5, Q7, we did this with a single call to `pingouin.pairwise_corr()`. How can we get something similar with R? Produce a tibble that looks similar to this:\n",
    "\n",
    "| **X**              | **Y**               | **cor**    |\n",
    "|:-------------------|:--------------------|-----------:|\n",
    "| bill_length_mm     | bill_length_mm      |  1.0000000 |\n",
    "| bill_length_mm     | bill_depth_mm       | -0.2286256 |\n",
    "| bill_length_mm     | flipper_length_mm   |  0.6530956 |\n",
    "| ...                | ...                 | ...        |\n",
    "\n",
    "_Notes:_\n",
    "\n",
    "- `cor()` can work with more than two variables!\n",
    "- Since `cor()` returns a \"matrix\", not a \"tibble\", you might want to look at `as_tibble(rownames = ...)` to convert it to one.\n"
   ]
  },
  {
   "cell_type": "code",
   "execution_count": null,
   "id": "60d8d96c-c2f9-4484-aad7-4ed014d2b61e",
   "metadata": {},
   "outputs": [],
   "source": [
    "# YOUR CODE HERE"
   ]
  },
  {
   "cell_type": "markdown",
   "id": "b080ab58-3f89-4dcd-88a9-bbe2ab3fadc5",
   "metadata": {},
   "source": [
    "**3. Produce a _heat map_ that shows the Pearson correlation between all four variables, with _negative_ and _positive_ values in different colors.** The table you produced in the previous task is the ideal starting point for this. With this, you should be able to:\n",
    "\n",
    "- Plot a heat map. We haven't seen how to do this yet, but a good place to look it up is the [R Graphics Cookbook](https://r-graphics.org/) (there's also an example in the _R for Data Science_ book).\n",
    "- Change the color palette. Correlations, where we want to distinguish between _positive_ and _negative_ values by color, are a prime use case for _divergent_ color palettes. Refer back to [§28](https://r4ds.had.co.nz/graphics-for-communication.html#scales) and the previous exercise, and find an appropriate divergent color palette for the heat map.\n",
    "- _Bonus:_ How can we make sure the color palette goes from -1 to +1, so the middle is exactly at 0? (The keyword here is \"limits\".)\n",
    "- _Bonus:_ How can we also plot the numeric values inside the heatmap?"
   ]
  },
  {
   "cell_type": "code",
   "execution_count": null,
   "id": "624f744a-5b9c-41c4-bb55-2c1c34adbbf8",
   "metadata": {},
   "outputs": [],
   "source": [
    "# YOUR CODE HERE"
   ]
  },
  {
   "cell_type": "markdown",
   "id": "b49d09ec-96c8-4624-acc7-edcc2d3429f8",
   "metadata": {},
   "source": [
    "- - - \n",
    "\n",
    "## Linear regression\n",
    "\n",
    "We've already seen in Exercise 6 that we can _plot_ linear regressions easily via `geom_smooth()`. Now, let's see what actually happens under the hood and how we can compute and plot linear regressions explicitly. The techniques used here can be useful e.g. for making predictions with a regression model, and can be transferred to other, more complex models as well.\n",
    "\n",
    "These exercises roughly follow [§23 \"Model basics\"](https://r4ds.had.co.nz/model-basics.html), although that chapter goes into a lot of detail about modelling beyond just the implementation in R, so I'll cherry-pick and refer you to individual parts of the chapter throughout."
   ]
  },
  {
   "cell_type": "markdown",
   "id": "b575c4be-b180-4356-b35c-2b36df38ded9",
   "metadata": {},
   "source": [
    "**4. Compute a linear regression to predict `body_mass_g` from `flipper_length_mm`.** Could you write out the mathematical formula for this regression model? (_Note:_ Look at the help for `lm()`, the lecture slides, or the end of [§23.2](https://r4ds.had.co.nz/model-basics.html#a-simple-model) to get started here.)"
   ]
  },
  {
   "cell_type": "code",
   "execution_count": null,
   "id": "d993610d-f8d8-404a-ac80-867b27c62163",
   "metadata": {},
   "outputs": [],
   "source": [
    "# YOUR CODE HERE"
   ]
  },
  {
   "cell_type": "markdown",
   "id": "4a555b34-dced-4c35-8f70-013507a882e8",
   "metadata": {},
   "source": [
    "**5. Plot the points + the regression line following the technique in [§23.3](https://r4ds.had.co.nz/model-basics.html#visualising-models)!** In other words, make a data grid with model predictions, and recreate the following plot _without_ using `geom_smooth()`:"
   ]
  },
  {
   "cell_type": "code",
   "execution_count": null,
   "id": "f4e0d7df-ede4-4a71-ada3-8b580040c026",
   "metadata": {},
   "outputs": [],
   "source": [
    "ggplot(penguins, aes(flipper_length_mm, body_mass_g)) +\n",
    "  geom_point() +\n",
    "  geom_smooth(method = \"lm\", se = FALSE)"
   ]
  },
  {
   "cell_type": "code",
   "execution_count": null,
   "id": "e37a3b8f-165c-4c84-9407-4bdb0cb6644d",
   "metadata": {},
   "outputs": [],
   "source": [
    "# YOUR CODE HERE"
   ]
  },
  {
   "cell_type": "markdown",
   "id": "bb9dc735-e6fe-46b5-9890-2d008ad03dd3",
   "metadata": {},
   "source": [
    "**6. Plot the _residuals_ of the regression from Q5!** This is also described in [§23.3](https://r4ds.had.co.nz/model-basics.html#visualising-models). Have you seen residuals before? Do you understand what they show? If not, look in the book & compare the residual plot with the plots from the previous task."
   ]
  },
  {
   "cell_type": "code",
   "execution_count": null,
   "id": "10278445-f5ed-4746-a871-a91ede8d2a24",
   "metadata": {},
   "outputs": [],
   "source": [
    "# YOUR CODE HERE"
   ]
  },
  {
   "cell_type": "markdown",
   "id": "c85f3f0a-6b7e-47d1-b705-69b435774eff",
   "metadata": {},
   "source": [
    "**7. Compute linear regressions to predict `bill_depth_mm` from `bill_length_mm` _and_ `species`!** For this, we need to learn a bit about _formulas_ in R and how to use them to describe _interactions_ of variables. This is described in [§23.4](https://r4ds.had.co.nz/model-basics.html#formulas-and-model-families) of the book. Compute linear regression models that predict on `bill_length_mm` and `species` both _without interaction_ (via `+`) and _with interaction_ (via `*`), and show their coefficients."
   ]
  },
  {
   "cell_type": "code",
   "execution_count": null,
   "id": "ecd99e9d-93dc-4510-8558-5b18a73610ee",
   "metadata": {},
   "outputs": [],
   "source": [
    "# YOUR CODE HERE"
   ]
  },
  {
   "cell_type": "markdown",
   "id": "b16abde0-690a-4845-8fda-75ac3a2e1b57",
   "metadata": {},
   "source": [
    "**8. Plot the points + regression lines for both models!** With `geom_smooth()`, we could produce this as follows:"
   ]
  },
  {
   "cell_type": "code",
   "execution_count": null,
   "id": "1503436e-d8fc-4691-bcb9-b55f3ca09112",
   "metadata": {},
   "outputs": [],
   "source": [
    "ggplot(penguins, aes(bill_length_mm, bill_depth_mm, color = species)) +\n",
    "  geom_point() +\n",
    "  geom_smooth(method = \"lm\", se = FALSE)"
   ]
  },
  {
   "cell_type": "markdown",
   "id": "1031f0ff-7da0-458b-bd48-aa5e0ba812ad",
   "metadata": {},
   "source": [
    "But which formula is `geom_smooth()` using here? Are the regression lines equivalent to our models _with_ or _without_ interaction? Let's plot them explicitly to find out. (You can do separate plots for the two models, or you could even try to plot them in a single plot with different line styles!)"
   ]
  },
  {
   "cell_type": "code",
   "execution_count": null,
   "id": "af9ead29-d732-4e0c-afa1-6c768ffa6788",
   "metadata": {},
   "outputs": [],
   "source": [
    "# YOUR CODE HERE"
   ]
  },
  {
   "cell_type": "markdown",
   "id": "7d672a5a-cb7a-49aa-b0d9-24d687510320",
   "metadata": {},
   "source": [
    "**9. Plot the residuals for both models!** It's easiest to use the facet grid approach shown in the book."
   ]
  },
  {
   "cell_type": "code",
   "execution_count": null,
   "id": "7ecd508d-4621-4ee7-9910-24cf18efa0d8",
   "metadata": {},
   "outputs": [],
   "source": [
    "# YOUR CODE HERE"
   ]
  },
  {
   "cell_type": "markdown",
   "id": "9d95e8ea-7072-4e6e-8ee8-ccbef7dd59a8",
   "metadata": {},
   "source": [
    "- - -\n",
    "\n",
    "## Tidymodels\n",
    "\n",
    "What if we want to use different models than just linear regression? Traditionally, there are many different packages in the R ecosystem specializing in different kinds of models, which can make switching between models a bit tedious. [Tidymodels](https://www.tidymodels.org/) is a collection of packages that attempts to address this by providing a unified interface for model fitting, predicting, and evaluating (among other things).\n",
    "\n",
    "We'll follow the [\"Build a model\" section from the \"Getting started\" guide](https://www.tidymodels.org/start/models/) in this section."
   ]
  },
  {
   "cell_type": "code",
   "execution_count": null,
   "id": "a5a150d0-93ad-4c6a-9a57-92a75a22a09b",
   "metadata": {},
   "outputs": [],
   "source": [
    "library(tidymodels)"
   ]
  },
  {
   "cell_type": "markdown",
   "id": "de360763-2e79-42f6-9460-2cec97001b6d",
   "metadata": {},
   "source": [
    "**10. Build and fit the linear regression model with interaction from Q7 (i.e., predict `bill_depth_mm` from `bill_length_mm * species`) with Tidymodels!** Basically, follow the \"Build and fit a model\" section of the guide, swapping out dataset and variables with ours. _(You don't need to produce the dot-and-whisker plot that relies on another package, but you can, of course.)_"
   ]
  },
  {
   "cell_type": "code",
   "execution_count": null,
   "id": "0fa7fdf6-e421-443d-bd62-9668b8d9637b",
   "metadata": {},
   "outputs": [],
   "source": [
    "# YOUR CODE HERE"
   ]
  },
  {
   "cell_type": "markdown",
   "id": "2c706e79-f673-4542-b626-51cb22490b4a",
   "metadata": {},
   "source": [
    "**11. Make predictions for all species given that the _bill length_ is 43mm, and plot the predictions with error bars!** Again, follow the guide."
   ]
  },
  {
   "cell_type": "code",
   "execution_count": null,
   "id": "65c85bee-953b-445d-9ae4-449d1dba6772",
   "metadata": {},
   "outputs": [],
   "source": [
    "# YOUR CODE HERE"
   ]
  },
  {
   "cell_type": "markdown",
   "id": "ddbd3c55-ba8b-4889-ba3a-a2a253eede2b",
   "metadata": {},
   "source": [
    "**12. What is the _root mean squared error (RMSE)_ of this linear regression model when evaluated with _10-fold cross-validation_?** In other words, let's start evaluating this model as a _predictive_ model and calculate some evaluation metrics. The [\"Fit a Model with Resampling\" section](https://www.tidymodels.org/start/resampling/#fit-resamples) describes how to do this; they're using a different dataset and a different classifier, but we perform exactly the same steps with our linear regression model.\n",
    "\n",
    "Concretely, we need to:\n",
    "\n",
    "- define our model via `workflow()` rather than calling `fit()` directly;\n",
    "- split our penguins dataset into 10 separate folds; and\n",
    "- fit this workflow on all the resampled folds.\n",
    "\n",
    "(_Note:_ Tidymodels will automatically include RMSE as an evaluation metric for a regression task, no extra steps necessary for this...)"
   ]
  },
  {
   "cell_type": "code",
   "execution_count": null,
   "id": "3604a74f-5551-4820-9ab7-b9473a63d35f",
   "metadata": {},
   "outputs": [],
   "source": [
    "# YOUR CODE HERE"
   ]
  },
  {
   "cell_type": "markdown",
   "id": "51369476-12b5-450e-b21f-017e627f7f34",
   "metadata": {},
   "source": [
    "**13. Fit a _random forest regressor_ and plot it similarly to Q8!** Let's try out how easily we can switch out one model for another with Tidymodels. The getting-started guide uses a Bayesian model, but the corresponding library can be a bit difficult to install, so we're using random forests instead.\n",
    "\n",
    "If you have the `ranger` package installed, you can use the following lines to define a random forest regressor:"
   ]
  },
  {
   "cell_type": "code",
   "execution_count": null,
   "id": "4ff73d89-71af-496c-96e6-932969f759f5",
   "metadata": {},
   "outputs": [],
   "source": [
    "library(ranger)\n",
    "(rf_mod <-\n",
    "     rand_forest(mtry = 2, trees = 1000) %>%\n",
    "     set_engine(\"ranger\", importance = \"impurity\") %>%\n",
    "     set_mode(\"regression\"))"
   ]
  },
  {
   "cell_type": "markdown",
   "id": "c928d39e-200b-40ae-9272-61a831a3d760",
   "metadata": {},
   "source": [
    "The concept behind Tidymodels is that **you don't need to know too much about how the `ranger` package works,** you can just use exactly the same Tidymodels functions to fit, predict, and evaluate as before.  Let's try it out, and combine what we've done in previous sections (before Tidymodels) with what we know now about the Tidymodels pipeline.  Concretely:\n",
    "\n",
    "- Fit the `rf_mod` model to the data and produce a table with predictions. Note that you shouldn't use a single point this time (like in Q11), but make predictions for the entire range of values. (You can reuse `data_grid()` for that.)\n",
    "- Produce a visualization similar to the one in Q8, plotting the random forest predictions as a line overlaid on the data points."
   ]
  },
  {
   "cell_type": "code",
   "execution_count": null,
   "id": "af496a66-1d3b-46ec-8f84-f3a560336539",
   "metadata": {},
   "outputs": [],
   "source": [
    "# YOUR CODE HERE"
   ]
  },
  {
   "cell_type": "markdown",
   "id": "f546548c-c770-46e8-b454-7ff455dd9999",
   "metadata": {},
   "source": [
    "**14. What is the _root mean squared error (RMSE)_ of this random forest regression model when evaluated with _10-fold cross-validation_?** Is it better or worse than the linear regression model? You can do this analogously to Q12, with **one important caveat:** because we have an indicator variable in our formula, I need to import `library(hardhat)` and add `blueprint = default_formula_blueprint()` to the `add_formula(...)` call. (It's not important for us here why exactly this is needed.)"
   ]
  },
  {
   "cell_type": "code",
   "execution_count": null,
   "id": "21711428-4272-4d23-9eb5-cd8d2571f286",
   "metadata": {},
   "outputs": [],
   "source": [
    "library(hardhat)\n",
    "# YOUR CODE HERE"
   ]
  },
  {
   "cell_type": "markdown",
   "id": "4ae4110a-35f4-4e64-b198-39ec00555f35",
   "metadata": {},
   "source": [
    "You can use [many more models](https://parsnip.tidymodels.org/articles/Examples.html) with Tidyverse, even [neural networks](https://www.tidymodels.org/learn/models/parsnip-nnet/). If you're curious, try out more!\n"
   ]
  },
  {
   "cell_type": "markdown",
   "id": "d9128fad-097f-4496-9fec-a669d4a4194f",
   "metadata": {},
   "source": [
    "\n",
    "- - -\n",
    "\n",
    "### What we've _not_ looked into\n",
    "\n",
    "The Python exercise on statistical modeling covered several more advanced topics. Since R's modeling approach is so different from Python's in many respects, we focused more on the basics in this exercise, but here are some pointers that show how you could implement the other topics from the Python exercises as well.\n",
    "\n",
    "- Statistical testing is a basic part of Tidymodels that we've not looked at. The [\"Learn\" section on the Tidymodels website](https://www.tidymodels.org/learn/) has several useful articles introducing this and other features.\n",
    "- For feature importance, including _permutation feature importance_, look at the [vip package](https://koalaverse.github.io/vip/).\n",
    "- [Dimensionality reduction](https://www.tmwr.org/dimensionality.html) is covered in the book [_Tidy Modeling with R_](https://www.tmwr.org/), which is, as the name suggests, another freely available resource that focuses entirely on Tidymodels.\n",
    "\n",
    "For reference, here's a quick example with chi-square tests:\n",
    "\n",
    "- Are the \"species\" and \"sex\" variables independent in our dataset? (Yes they are!)"
   ]
  },
  {
   "cell_type": "code",
   "execution_count": null,
   "id": "4f93845c-5f6f-4d19-9cdf-15f6a14684b1",
   "metadata": {},
   "outputs": [],
   "source": [
    "chisq_test(penguins, species ~ sex)"
   ]
  },
  {
   "cell_type": "markdown",
   "id": "440ac82c-865b-4ba6-9da8-9b47c5487399",
   "metadata": {},
   "source": [
    "- Are the \"species\" and \"island\" variables independent? (No they're not!)"
   ]
  },
  {
   "cell_type": "code",
   "execution_count": null,
   "id": "31d41e9f-4498-439d-9824-6c37e5e4cf8b",
   "metadata": {},
   "outputs": [],
   "source": [
    "chisq_test(penguins, species ~ island)"
   ]
  },
  {
   "cell_type": "code",
   "execution_count": null,
   "id": "25a542ac-a25f-4d51-ac3b-6fe95a10f169",
   "metadata": {},
   "outputs": [],
   "source": []
  }
 ],
 "metadata": {
  "kernelspec": {
   "display_name": "R",
   "language": "R",
   "name": "ir"
  },
  "language_info": {
   "codemirror_mode": "r",
   "file_extension": ".r",
   "mimetype": "text/x-r-source",
   "name": "R",
   "pygments_lexer": "r",
   "version": "4.0.5"
  }
 },
 "nbformat": 4,
 "nbformat_minor": 5
}

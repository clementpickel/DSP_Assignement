{
 "cells": [
  {
   "cell_type": "markdown",
   "id": "9de3dbe1",
   "metadata": {},
   "source": [
    "*Prepared for the course \"TDPS22: Data Science Programming\" at Jönköping University, Teacher: [Marcel Bollmann](mailto:marcel.bollmann@ju.se)*\n",
    "\n",
    "# Exercise 1: Practice your Pandas skills!\n",
    "\n",
    "This notebook contains exercises on data exploration and transformation using the Pandas library.  It does **not** directly follow the book or user guide, but rather contains exercises that are practically motivated and require a wide variety of Pandas functionality.\n",
    "\n",
    "### Learning Goals\n",
    "\n",
    "- Understand how to think about data manipulation & analysis in Pandas.\n",
    "- Know how to use _indexing, smart indexing, and aggregations_ in Pandas.\n",
    "- Know how to use _grouping operations_ in Pandas.\n",
    "- Know how to _combine_ datasets in Pandas.\n",
    "\n",
    "Remember that you don't need to learn everything by heart; it's okay to need to look up things, but you should become more proficient in the basic principles & techniques needed to solve exercises like these.\n",
    "\n",
    "### Useful Resources\n",
    "\n",
    "- [_Python Data Science Handbook_ by Jake VanderPlas, Ch.3: Data Manipulation with Pandas](https://jakevdp.github.io/PythonDataScienceHandbook/index.html#3.-Data-Manipulation-with-Pandas)\n",
    "- [Pandas User Guide](https://pandas.pydata.org/docs/user_guide/)\n",
    "\n",
    "The datasets used here contain _synthetically generated_ (i.e., fake) data which is based on, but not identical to, the [\"Coffee Chain\" dataset from Kaggle](https://www.kaggle.com/datasets/qusaybtoush1990/coffee-chain).\n"
   ]
  },
  {
   "cell_type": "code",
   "execution_count": null,
   "id": "60a64316",
   "metadata": {},
   "outputs": [],
   "source": [
    "# %load_ext rich\n",
    "import pandas as pd"
   ]
  },
  {
   "cell_type": "code",
   "execution_count": null,
   "id": "086c7ae6",
   "metadata": {},
   "outputs": [],
   "source": [
    "# Load the data into a Pandas DataFrame\n",
    "data = \"data/coffee-chain.csv\"\n",
    "df = pd.read_csv(data)\n",
    "df"
   ]
  },
  {
   "cell_type": "markdown",
   "id": "dbaa2fa4",
   "metadata": {},
   "source": [
    "- - - \n",
    "## Data Exploration\n",
    "\n",
    "Here are some common questions that you might want to explore on a dataset like this. They all have in common that they ***can be solved with just one line of code*** in Pandas. That doesn't mean they're trivial – they require you to understand how Pandas works and how you can think about data selection and transformation in Pandas. Sometimes there are also several different ways to achieve the same result. If you can implement a solution that needs more than one line of code, that's also fine – but I'd encourage you to try to find the one-line solution as well, simply in order to learn more about the possibilities that Pandas offers.\n",
    "\n",
    "If you're lost, don't forget you can reference the [book](https://jakevdp.github.io/PythonDataScienceHandbook/index.html#3.-Data-Manipulation-with-Pandas) or the [user guide](https://pandas.pydata.org/docs/user_guide/)."
   ]
  },
  {
   "cell_type": "markdown",
   "id": "49e01792",
   "metadata": {},
   "source": [
    "**1. Does the dataset have any missing values?** Write an expression to obtain a _single boolean value_ (i.e., True or False) that signifies whether the DataFrame has any missing values or not."
   ]
  },
  {
   "cell_type": "code",
   "execution_count": null,
   "id": "f3ce0685",
   "metadata": {},
   "outputs": [],
   "source": [
    "pd.isna(df).any().any()"
   ]
  },
  {
   "cell_type": "markdown",
   "id": "86a69f34",
   "metadata": {},
   "source": [
    "**2. What different _product types_ are there in the dataset?** Produce a list of all unique product types in the dataset, i.e., unique values in the \"Product Type\" column."
   ]
  },
  {
   "cell_type": "code",
   "execution_count": null,
   "id": "6fa83693",
   "metadata": {},
   "outputs": [],
   "source": [
    "print(df['Product Type'].unique())"
   ]
  },
  {
   "cell_type": "markdown",
   "id": "d2d1c0fa",
   "metadata": {},
   "source": [
    "**3. What different _\"coffee\" products_ are there in the dataset?** Produce a list of all unique coffee products in the dataset, i.e., values in the \"Product\" column where the \"Product Type\" is \"Coffee\"."
   ]
  },
  {
   "cell_type": "code",
   "execution_count": null,
   "id": "5b0c4042",
   "metadata": {},
   "outputs": [],
   "source": [
    "print(df[df[\"Product Type\"] == \"Coffee\"][\"Product\"].unique())"
   ]
  },
  {
   "cell_type": "markdown",
   "id": "a20aa6d7",
   "metadata": {},
   "source": [
    "**4. What different _\"coffee or espresso\" products_ are there in the dataset?** Do the same as above, but this time include all products where the \"Product Type\" is either \"Coffee\" or \"Espresso\". Try to figure out how to do this in a single Pandas expression — i.e., how can you select all rows in the dataset that match the required condition?\n",
    "\n",
    "_Hint:_ You might want to consult [\"Indexing and Selecting Data\" in the user guide](https://pandas.pydata.org/docs/user_guide/indexing.html)."
   ]
  },
  {
   "cell_type": "code",
   "execution_count": 55,
   "id": "2fe6122b",
   "metadata": {},
   "outputs": [
    {
     "name": "stdout",
     "output_type": "stream",
     "text": [
      "['Decaf Irish Cream' 'Decaf Espresso' 'Caffe Latte' 'Amaretto'\n",
      " 'Caffe Mocha' 'Colombian' 'Regular Espresso']\n"
     ]
    }
   ],
   "source": [
    "print(df[df[\"Product Type\"].isin([\"Coffee\", \"Espresso\"])][\"Product\"].unique())"
   ]
  },
  {
   "cell_type": "markdown",
   "id": "d0651949",
   "metadata": {},
   "source": [
    "**5. Which product type generates the most/the least profit, on average?** Find out the average \"Profit\" values by \"Product Type\"."
   ]
  },
  {
   "cell_type": "code",
   "execution_count": 54,
   "id": "e196a0c3",
   "metadata": {},
   "outputs": [
    {
     "name": "stdout",
     "output_type": "stream",
     "text": [
      "Most profitable product type: Coffee\n",
      "Least profitable product type: Tea\n"
     ]
    },
    {
     "data": {
      "text/html": [
       "<div>\n",
       "<style scoped>\n",
       "    .dataframe tbody tr th:only-of-type {\n",
       "        vertical-align: middle;\n",
       "    }\n",
       "\n",
       "    .dataframe tbody tr th {\n",
       "        vertical-align: top;\n",
       "    }\n",
       "\n",
       "    .dataframe thead th {\n",
       "        text-align: right;\n",
       "    }\n",
       "</style>\n",
       "<table border=\"1\" class=\"dataframe\">\n",
       "  <thead>\n",
       "    <tr style=\"text-align: right;\">\n",
       "      <th></th>\n",
       "      <th>Sales</th>\n",
       "      <th>Profit</th>\n",
       "      <th>Expenses</th>\n",
       "    </tr>\n",
       "    <tr>\n",
       "      <th>Product Type</th>\n",
       "      <th></th>\n",
       "      <th></th>\n",
       "      <th></th>\n",
       "    </tr>\n",
       "  </thead>\n",
       "  <tbody>\n",
       "    <tr>\n",
       "      <th>Coffee</th>\n",
       "      <td>201.535619</td>\n",
       "      <td>75.578185</td>\n",
       "      <td>57.487733</td>\n",
       "    </tr>\n",
       "    <tr>\n",
       "      <th>Espresso</th>\n",
       "      <td>182.750000</td>\n",
       "      <td>58.973007</td>\n",
       "      <td>49.626661</td>\n",
       "    </tr>\n",
       "    <tr>\n",
       "      <th>Herbal Tea</th>\n",
       "      <td>195.780762</td>\n",
       "      <td>63.212826</td>\n",
       "      <td>52.321042</td>\n",
       "    </tr>\n",
       "    <tr>\n",
       "      <th>Tea</th>\n",
       "      <td>165.620187</td>\n",
       "      <td>51.126021</td>\n",
       "      <td>43.731039</td>\n",
       "    </tr>\n",
       "  </tbody>\n",
       "</table>\n",
       "</div>"
      ],
      "text/plain": [
       "                   Sales     Profit   Expenses\n",
       "Product Type                                  \n",
       "Coffee        201.535619  75.578185  57.487733\n",
       "Espresso      182.750000  58.973007  49.626661\n",
       "Herbal Tea    195.780762  63.212826  52.321042\n",
       "Tea           165.620187  51.126021  43.731039"
      ]
     },
     "execution_count": 54,
     "metadata": {},
     "output_type": "execute_result"
    }
   ],
   "source": [
    "# Your code here\n",
    "mean = df.groupby(\"Product Type\").mean(numeric_only=True)\n",
    "print(\"Most profitable product type:\", mean[\"Profit\"].idxmax())\n",
    "print(\"Least profitable product type:\", mean[\"Profit\"].idxmin())\n",
    "mean"
   ]
  },
  {
   "cell_type": "markdown",
   "id": "f573c396",
   "metadata": {},
   "source": [
    "**6. What's the _distribution_ of profits among all products?** Produce a table that has unique \"Product\" values (e.g., Amaretto, Caffe Latte, ...) as _rows_, and statistics about the distribution of their \"Profit\" values (e.g., count, mean, min, max, ...) as _columns_.\n",
    "\n",
    "_Hint:_ The statistics about distributions can be obtained with the `.describe()` method."
   ]
  },
  {
   "cell_type": "code",
   "execution_count": null,
   "id": "82448465",
   "metadata": {},
   "outputs": [
    {
     "data": {
      "text/html": [
       "<div>\n",
       "<style scoped>\n",
       "    .dataframe tbody tr th:only-of-type {\n",
       "        vertical-align: middle;\n",
       "    }\n",
       "\n",
       "    .dataframe tbody tr th {\n",
       "        vertical-align: top;\n",
       "    }\n",
       "\n",
       "    .dataframe thead th {\n",
       "        text-align: right;\n",
       "    }\n",
       "</style>\n",
       "<table border=\"1\" class=\"dataframe\">\n",
       "  <thead>\n",
       "    <tr style=\"text-align: right;\">\n",
       "      <th></th>\n",
       "      <th>count</th>\n",
       "      <th>mean</th>\n",
       "      <th>std</th>\n",
       "      <th>min</th>\n",
       "      <th>25%</th>\n",
       "      <th>50%</th>\n",
       "      <th>75%</th>\n",
       "      <th>max</th>\n",
       "    </tr>\n",
       "    <tr>\n",
       "      <th>Product</th>\n",
       "      <th></th>\n",
       "      <th></th>\n",
       "      <th></th>\n",
       "      <th></th>\n",
       "      <th></th>\n",
       "      <th></th>\n",
       "      <th></th>\n",
       "      <th></th>\n",
       "    </tr>\n",
       "  </thead>\n",
       "  <tbody>\n",
       "    <tr>\n",
       "      <th>Amaretto</th>\n",
       "      <td>166.0</td>\n",
       "      <td>57.253012</td>\n",
       "      <td>64.472375</td>\n",
       "      <td>-40.0</td>\n",
       "      <td>16.00</td>\n",
       "      <td>33.0</td>\n",
       "      <td>76.75</td>\n",
       "      <td>371.0</td>\n",
       "    </tr>\n",
       "    <tr>\n",
       "      <th>Caffe Latte</th>\n",
       "      <td>292.0</td>\n",
       "      <td>46.116438</td>\n",
       "      <td>52.895931</td>\n",
       "      <td>-27.0</td>\n",
       "      <td>14.00</td>\n",
       "      <td>31.0</td>\n",
       "      <td>52.25</td>\n",
       "      <td>315.0</td>\n",
       "    </tr>\n",
       "    <tr>\n",
       "      <th>Caffe Mocha</th>\n",
       "      <td>919.0</td>\n",
       "      <td>64.001088</td>\n",
       "      <td>72.437359</td>\n",
       "      <td>-321.0</td>\n",
       "      <td>18.00</td>\n",
       "      <td>41.0</td>\n",
       "      <td>98.50</td>\n",
       "      <td>437.0</td>\n",
       "    </tr>\n",
       "    <tr>\n",
       "      <th>Chamomile</th>\n",
       "      <td>998.0</td>\n",
       "      <td>65.584168</td>\n",
       "      <td>65.445196</td>\n",
       "      <td>-117.0</td>\n",
       "      <td>21.00</td>\n",
       "      <td>40.0</td>\n",
       "      <td>100.75</td>\n",
       "      <td>432.0</td>\n",
       "    </tr>\n",
       "    <tr>\n",
       "      <th>Colombian</th>\n",
       "      <td>101.0</td>\n",
       "      <td>246.247525</td>\n",
       "      <td>91.322112</td>\n",
       "      <td>31.0</td>\n",
       "      <td>191.00</td>\n",
       "      <td>236.0</td>\n",
       "      <td>302.00</td>\n",
       "      <td>626.0</td>\n",
       "    </tr>\n",
       "    <tr>\n",
       "      <th>Darjeeling</th>\n",
       "      <td>1626.0</td>\n",
       "      <td>49.459410</td>\n",
       "      <td>67.325825</td>\n",
       "      <td>-586.0</td>\n",
       "      <td>13.00</td>\n",
       "      <td>33.0</td>\n",
       "      <td>83.00</td>\n",
       "      <td>283.0</td>\n",
       "    </tr>\n",
       "    <tr>\n",
       "      <th>Decaf Espresso</th>\n",
       "      <td>1149.0</td>\n",
       "      <td>59.009574</td>\n",
       "      <td>55.739914</td>\n",
       "      <td>-301.0</td>\n",
       "      <td>22.00</td>\n",
       "      <td>41.0</td>\n",
       "      <td>85.00</td>\n",
       "      <td>329.0</td>\n",
       "    </tr>\n",
       "    <tr>\n",
       "      <th>Decaf Irish Cream</th>\n",
       "      <td>3116.0</td>\n",
       "      <td>71.022465</td>\n",
       "      <td>94.051846</td>\n",
       "      <td>-366.0</td>\n",
       "      <td>23.00</td>\n",
       "      <td>42.0</td>\n",
       "      <td>89.00</td>\n",
       "      <td>778.0</td>\n",
       "    </tr>\n",
       "    <tr>\n",
       "      <th>Earl Grey</th>\n",
       "      <td>79.0</td>\n",
       "      <td>89.037975</td>\n",
       "      <td>64.629802</td>\n",
       "      <td>-30.0</td>\n",
       "      <td>42.50</td>\n",
       "      <td>86.0</td>\n",
       "      <td>134.00</td>\n",
       "      <td>234.0</td>\n",
       "    </tr>\n",
       "    <tr>\n",
       "      <th>Green Tea</th>\n",
       "      <td>9.0</td>\n",
       "      <td>19.444444</td>\n",
       "      <td>31.627168</td>\n",
       "      <td>-18.0</td>\n",
       "      <td>1.00</td>\n",
       "      <td>11.0</td>\n",
       "      <td>19.00</td>\n",
       "      <td>84.0</td>\n",
       "    </tr>\n",
       "    <tr>\n",
       "      <th>Lemon</th>\n",
       "      <td>1143.0</td>\n",
       "      <td>63.998250</td>\n",
       "      <td>75.092109</td>\n",
       "      <td>-214.0</td>\n",
       "      <td>18.00</td>\n",
       "      <td>37.0</td>\n",
       "      <td>90.50</td>\n",
       "      <td>448.0</td>\n",
       "    </tr>\n",
       "    <tr>\n",
       "      <th>Mint</th>\n",
       "      <td>354.0</td>\n",
       "      <td>53.991525</td>\n",
       "      <td>56.085855</td>\n",
       "      <td>-289.0</td>\n",
       "      <td>18.25</td>\n",
       "      <td>42.0</td>\n",
       "      <td>91.00</td>\n",
       "      <td>277.0</td>\n",
       "    </tr>\n",
       "    <tr>\n",
       "      <th>Regular Espresso</th>\n",
       "      <td>48.0</td>\n",
       "      <td>40.041667</td>\n",
       "      <td>82.014778</td>\n",
       "      <td>-33.0</td>\n",
       "      <td>-9.00</td>\n",
       "      <td>-0.5</td>\n",
       "      <td>80.75</td>\n",
       "      <td>357.0</td>\n",
       "    </tr>\n",
       "  </tbody>\n",
       "</table>\n",
       "</div>"
      ],
      "text/plain": [
       "                    count        mean        std    min     25%    50%  \\\n",
       "Product                                                                  \n",
       "Amaretto            166.0   57.253012  64.472375  -40.0   16.00   33.0   \n",
       "Caffe Latte         292.0   46.116438  52.895931  -27.0   14.00   31.0   \n",
       "Caffe Mocha         919.0   64.001088  72.437359 -321.0   18.00   41.0   \n",
       "Chamomile           998.0   65.584168  65.445196 -117.0   21.00   40.0   \n",
       "Colombian           101.0  246.247525  91.322112   31.0  191.00  236.0   \n",
       "Darjeeling         1626.0   49.459410  67.325825 -586.0   13.00   33.0   \n",
       "Decaf Espresso     1149.0   59.009574  55.739914 -301.0   22.00   41.0   \n",
       "Decaf Irish Cream  3116.0   71.022465  94.051846 -366.0   23.00   42.0   \n",
       "Earl Grey            79.0   89.037975  64.629802  -30.0   42.50   86.0   \n",
       "Green Tea             9.0   19.444444  31.627168  -18.0    1.00   11.0   \n",
       "Lemon              1143.0   63.998250  75.092109 -214.0   18.00   37.0   \n",
       "Mint                354.0   53.991525  56.085855 -289.0   18.25   42.0   \n",
       "Regular Espresso     48.0   40.041667  82.014778  -33.0   -9.00   -0.5   \n",
       "\n",
       "                      75%    max  \n",
       "Product                           \n",
       "Amaretto            76.75  371.0  \n",
       "Caffe Latte         52.25  315.0  \n",
       "Caffe Mocha         98.50  437.0  \n",
       "Chamomile          100.75  432.0  \n",
       "Colombian          302.00  626.0  \n",
       "Darjeeling          83.00  283.0  \n",
       "Decaf Espresso      85.00  329.0  \n",
       "Decaf Irish Cream   89.00  778.0  \n",
       "Earl Grey          134.00  234.0  \n",
       "Green Tea           19.00   84.0  \n",
       "Lemon               90.50  448.0  \n",
       "Mint                91.00  277.0  \n",
       "Regular Espresso    80.75  357.0  "
      ]
     },
     "execution_count": 53,
     "metadata": {},
     "output_type": "execute_result"
    }
   ],
   "source": [
    "df.groupby(\"Product\")[\"Profit\"].describe()"
   ]
  },
  {
   "cell_type": "markdown",
   "id": "10c66bd1",
   "metadata": {},
   "source": [
    "**7. What are the average profits by products _and_ market region?** From the solution to the previous question, we know the mean \"Profit\" values for each \"Product\" in the dataset. Now, we want to look at the average profit by _two_ variables: \"Product\" and \"Market\". Produce a table that has products as _rows_, markets as _columns_, and the mean profits of the product–market combination as _values_.\n",
    "\n",
    "_Hint:_ This is a classic use case for [pivot tables](https://jakevdp.github.io/PythonDataScienceHandbook/03.09-pivot-tables.html)."
   ]
  },
  {
   "cell_type": "code",
   "execution_count": null,
   "id": "447cfeef",
   "metadata": {},
   "outputs": [
    {
     "data": {
      "text/html": [
       "<div>\n",
       "<style scoped>\n",
       "    .dataframe tbody tr th:only-of-type {\n",
       "        vertical-align: middle;\n",
       "    }\n",
       "\n",
       "    .dataframe tbody tr th {\n",
       "        vertical-align: top;\n",
       "    }\n",
       "\n",
       "    .dataframe thead th {\n",
       "        text-align: right;\n",
       "    }\n",
       "</style>\n",
       "<table border=\"1\" class=\"dataframe\">\n",
       "  <thead>\n",
       "    <tr style=\"text-align: right;\">\n",
       "      <th>Market</th>\n",
       "      <th>Central</th>\n",
       "      <th>East</th>\n",
       "      <th>South</th>\n",
       "      <th>West</th>\n",
       "    </tr>\n",
       "    <tr>\n",
       "      <th>Product</th>\n",
       "      <th></th>\n",
       "      <th></th>\n",
       "      <th></th>\n",
       "      <th></th>\n",
       "    </tr>\n",
       "  </thead>\n",
       "  <tbody>\n",
       "    <tr>\n",
       "      <th>Amaretto</th>\n",
       "      <td>60.049383</td>\n",
       "      <td>82.205128</td>\n",
       "      <td>NaN</td>\n",
       "      <td>31.173913</td>\n",
       "    </tr>\n",
       "    <tr>\n",
       "      <th>Caffe Latte</th>\n",
       "      <td>NaN</td>\n",
       "      <td>NaN</td>\n",
       "      <td>47.673611</td>\n",
       "      <td>44.601351</td>\n",
       "    </tr>\n",
       "    <tr>\n",
       "      <th>Caffe Mocha</th>\n",
       "      <td>88.767773</td>\n",
       "      <td>81.796875</td>\n",
       "      <td>55.932308</td>\n",
       "      <td>44.858824</td>\n",
       "    </tr>\n",
       "    <tr>\n",
       "      <th>Chamomile</th>\n",
       "      <td>69.342949</td>\n",
       "      <td>33.971014</td>\n",
       "      <td>41.335714</td>\n",
       "      <td>91.442478</td>\n",
       "    </tr>\n",
       "    <tr>\n",
       "      <th>Colombian</th>\n",
       "      <td>242.944444</td>\n",
       "      <td>270.711538</td>\n",
       "      <td>208.176471</td>\n",
       "      <td>205.857143</td>\n",
       "    </tr>\n",
       "    <tr>\n",
       "      <th>Darjeeling</th>\n",
       "      <td>62.615023</td>\n",
       "      <td>23.073883</td>\n",
       "      <td>NaN</td>\n",
       "      <td>65.239482</td>\n",
       "    </tr>\n",
       "    <tr>\n",
       "      <th>Decaf Espresso</th>\n",
       "      <td>68.546256</td>\n",
       "      <td>44.435976</td>\n",
       "      <td>58.074627</td>\n",
       "      <td>64.967391</td>\n",
       "    </tr>\n",
       "    <tr>\n",
       "      <th>Decaf Irish Cream</th>\n",
       "      <td>63.816653</td>\n",
       "      <td>167.639286</td>\n",
       "      <td>48.147059</td>\n",
       "      <td>30.064639</td>\n",
       "    </tr>\n",
       "    <tr>\n",
       "      <th>Earl Grey</th>\n",
       "      <td>101.370370</td>\n",
       "      <td>11.142857</td>\n",
       "      <td>NaN</td>\n",
       "      <td>93.755556</td>\n",
       "    </tr>\n",
       "    <tr>\n",
       "      <th>Green Tea</th>\n",
       "      <td>NaN</td>\n",
       "      <td>14.750000</td>\n",
       "      <td>NaN</td>\n",
       "      <td>57.000000</td>\n",
       "    </tr>\n",
       "    <tr>\n",
       "      <th>Lemon</th>\n",
       "      <td>72.343042</td>\n",
       "      <td>53.606557</td>\n",
       "      <td>38.552301</td>\n",
       "      <td>87.006897</td>\n",
       "    </tr>\n",
       "    <tr>\n",
       "      <th>Mint</th>\n",
       "      <td>59.615385</td>\n",
       "      <td>33.471545</td>\n",
       "      <td>NaN</td>\n",
       "      <td>69.259843</td>\n",
       "    </tr>\n",
       "    <tr>\n",
       "      <th>Regular Espresso</th>\n",
       "      <td>NaN</td>\n",
       "      <td>40.041667</td>\n",
       "      <td>NaN</td>\n",
       "      <td>NaN</td>\n",
       "    </tr>\n",
       "  </tbody>\n",
       "</table>\n",
       "</div>"
      ],
      "text/plain": [
       "Market                Central        East       South        West\n",
       "Product                                                          \n",
       "Amaretto            60.049383   82.205128         NaN   31.173913\n",
       "Caffe Latte               NaN         NaN   47.673611   44.601351\n",
       "Caffe Mocha         88.767773   81.796875   55.932308   44.858824\n",
       "Chamomile           69.342949   33.971014   41.335714   91.442478\n",
       "Colombian          242.944444  270.711538  208.176471  205.857143\n",
       "Darjeeling          62.615023   23.073883         NaN   65.239482\n",
       "Decaf Espresso      68.546256   44.435976   58.074627   64.967391\n",
       "Decaf Irish Cream   63.816653  167.639286   48.147059   30.064639\n",
       "Earl Grey          101.370370   11.142857         NaN   93.755556\n",
       "Green Tea                 NaN   14.750000         NaN   57.000000\n",
       "Lemon               72.343042   53.606557   38.552301   87.006897\n",
       "Mint                59.615385   33.471545         NaN   69.259843\n",
       "Regular Espresso          NaN   40.041667         NaN         NaN"
      ]
     },
     "execution_count": 52,
     "metadata": {},
     "output_type": "execute_result"
    }
   ],
   "source": [
    "df.pivot_table(index=\"Product\", columns=\"Market\", values=\"Profit\")"
   ]
  },
  {
   "cell_type": "markdown",
   "id": "9f30fdb6",
   "metadata": {},
   "source": [
    "**8. How many instances are there in the dataset of each product–market combination?** If you produced the pivot table for the previous question, you should see that several values in the table are \"NaN\" (_not a number_). It looks like some combinations of \"Product\" and \"Market\" might not exist in the dataset at all. Modify the pivot table from Q7 so that instead of averages, it shows _counts_ (i.e., how many values there are in total), and instead of \"NaN\" it fills in `0` for the missing combinations."
   ]
  },
  {
   "cell_type": "code",
   "execution_count": null,
   "id": "72b45ccf",
   "metadata": {},
   "outputs": [
    {
     "data": {
      "text/html": [
       "<div>\n",
       "<style scoped>\n",
       "    .dataframe tbody tr th:only-of-type {\n",
       "        vertical-align: middle;\n",
       "    }\n",
       "\n",
       "    .dataframe tbody tr th {\n",
       "        vertical-align: top;\n",
       "    }\n",
       "\n",
       "    .dataframe thead th {\n",
       "        text-align: right;\n",
       "    }\n",
       "</style>\n",
       "<table border=\"1\" class=\"dataframe\">\n",
       "  <thead>\n",
       "    <tr style=\"text-align: right;\">\n",
       "      <th>Market</th>\n",
       "      <th>Central</th>\n",
       "      <th>East</th>\n",
       "      <th>South</th>\n",
       "      <th>West</th>\n",
       "    </tr>\n",
       "    <tr>\n",
       "      <th>Product</th>\n",
       "      <th></th>\n",
       "      <th></th>\n",
       "      <th></th>\n",
       "      <th></th>\n",
       "    </tr>\n",
       "  </thead>\n",
       "  <tbody>\n",
       "    <tr>\n",
       "      <th>Amaretto</th>\n",
       "      <td>81</td>\n",
       "      <td>39</td>\n",
       "      <td>0</td>\n",
       "      <td>46</td>\n",
       "    </tr>\n",
       "    <tr>\n",
       "      <th>Caffe Latte</th>\n",
       "      <td>0</td>\n",
       "      <td>0</td>\n",
       "      <td>144</td>\n",
       "      <td>148</td>\n",
       "    </tr>\n",
       "    <tr>\n",
       "      <th>Caffe Mocha</th>\n",
       "      <td>211</td>\n",
       "      <td>128</td>\n",
       "      <td>325</td>\n",
       "      <td>255</td>\n",
       "    </tr>\n",
       "    <tr>\n",
       "      <th>Chamomile</th>\n",
       "      <td>312</td>\n",
       "      <td>207</td>\n",
       "      <td>140</td>\n",
       "      <td>339</td>\n",
       "    </tr>\n",
       "    <tr>\n",
       "      <th>Colombian</th>\n",
       "      <td>18</td>\n",
       "      <td>52</td>\n",
       "      <td>17</td>\n",
       "      <td>14</td>\n",
       "    </tr>\n",
       "    <tr>\n",
       "      <th>Darjeeling</th>\n",
       "      <td>426</td>\n",
       "      <td>582</td>\n",
       "      <td>0</td>\n",
       "      <td>618</td>\n",
       "    </tr>\n",
       "    <tr>\n",
       "      <th>Decaf Espresso</th>\n",
       "      <td>227</td>\n",
       "      <td>328</td>\n",
       "      <td>134</td>\n",
       "      <td>460</td>\n",
       "    </tr>\n",
       "    <tr>\n",
       "      <th>Decaf Irish Cream</th>\n",
       "      <td>1189</td>\n",
       "      <td>560</td>\n",
       "      <td>578</td>\n",
       "      <td>789</td>\n",
       "    </tr>\n",
       "    <tr>\n",
       "      <th>Earl Grey</th>\n",
       "      <td>27</td>\n",
       "      <td>7</td>\n",
       "      <td>0</td>\n",
       "      <td>45</td>\n",
       "    </tr>\n",
       "    <tr>\n",
       "      <th>Green Tea</th>\n",
       "      <td>0</td>\n",
       "      <td>8</td>\n",
       "      <td>0</td>\n",
       "      <td>1</td>\n",
       "    </tr>\n",
       "    <tr>\n",
       "      <th>Lemon</th>\n",
       "      <td>309</td>\n",
       "      <td>305</td>\n",
       "      <td>239</td>\n",
       "      <td>290</td>\n",
       "    </tr>\n",
       "    <tr>\n",
       "      <th>Mint</th>\n",
       "      <td>104</td>\n",
       "      <td>123</td>\n",
       "      <td>0</td>\n",
       "      <td>127</td>\n",
       "    </tr>\n",
       "    <tr>\n",
       "      <th>Regular Espresso</th>\n",
       "      <td>0</td>\n",
       "      <td>48</td>\n",
       "      <td>0</td>\n",
       "      <td>0</td>\n",
       "    </tr>\n",
       "  </tbody>\n",
       "</table>\n",
       "</div>"
      ],
      "text/plain": [
       "Market             Central  East  South  West\n",
       "Product                                      \n",
       "Amaretto                81    39      0    46\n",
       "Caffe Latte              0     0    144   148\n",
       "Caffe Mocha            211   128    325   255\n",
       "Chamomile              312   207    140   339\n",
       "Colombian               18    52     17    14\n",
       "Darjeeling             426   582      0   618\n",
       "Decaf Espresso         227   328    134   460\n",
       "Decaf Irish Cream     1189   560    578   789\n",
       "Earl Grey               27     7      0    45\n",
       "Green Tea                0     8      0     1\n",
       "Lemon                  309   305    239   290\n",
       "Mint                   104   123      0   127\n",
       "Regular Espresso         0    48      0     0"
      ]
     },
     "execution_count": 62,
     "metadata": {},
     "output_type": "execute_result"
    }
   ],
   "source": [
    "df.pivot_table(index=\"Product\", columns=\"Market\", values=\"Profit\", aggfunc=\"count\", fill_value=0)"
   ]
  },
  {
   "cell_type": "markdown",
   "id": "62806a7f",
   "metadata": {},
   "source": [
    "- - - \n",
    "## Data Preprocessing\n",
    "\n",
    "So far we just looked at the data in different ways, now we're going to modify it."
   ]
  },
  {
   "cell_type": "markdown",
   "id": "6704b8ba",
   "metadata": {},
   "source": [
    "**9. Filter out all products where we don't have data from all markets.** In Q8, we saw that some product–market combinations don't appear in the dataset at all. Maybe we want to do an analysis based on products and market regions, and therefore only want to keep products where we have data from _all_ of the four markets. In other words, we want to drop all the products where one of the markets has a count of `0`. Make a new DataFrame `df_subset` that consists of only the rows in `df` which fulfill this criterion.\n",
    "\n",
    "_Hint:_ This is possible to implement in one line, but it might easier to think about if you define a \"helper function\" first. This helper function should take a Pandas data structure and return `True` if it contains data from four different markets, and `False` otherwise. Afterwards, you can use this helper function to _filter_ the dataset.\n",
    "\n",
    "_Hint 2:_ If you implemented the filtering correctly, the resulting `df_subset` should have exactly 2616 rows."
   ]
  },
  {
   "cell_type": "code",
   "execution_count": null,
   "id": "2e3edb33",
   "metadata": {},
   "outputs": [
    {
     "data": {
      "text/html": [
       "<div>\n",
       "<style scoped>\n",
       "    .dataframe tbody tr th:only-of-type {\n",
       "        vertical-align: middle;\n",
       "    }\n",
       "\n",
       "    .dataframe tbody tr th {\n",
       "        vertical-align: top;\n",
       "    }\n",
       "\n",
       "    .dataframe thead th {\n",
       "        text-align: right;\n",
       "    }\n",
       "</style>\n",
       "<table border=\"1\" class=\"dataframe\">\n",
       "  <thead>\n",
       "    <tr style=\"text-align: right;\">\n",
       "      <th></th>\n",
       "      <th>Ddate</th>\n",
       "      <th>Market</th>\n",
       "      <th>Product</th>\n",
       "      <th>Product Type</th>\n",
       "      <th>Sales</th>\n",
       "      <th>Profit</th>\n",
       "      <th>Expenses</th>\n",
       "    </tr>\n",
       "  </thead>\n",
       "  <tbody>\n",
       "    <tr>\n",
       "      <th>0</th>\n",
       "      <td>9/1/13</td>\n",
       "      <td>Central</td>\n",
       "      <td>Decaf Irish Cream</td>\n",
       "      <td>Coffee</td>\n",
       "      <td>90</td>\n",
       "      <td>36</td>\n",
       "      <td>37</td>\n",
       "    </tr>\n",
       "    <tr>\n",
       "      <th>1</th>\n",
       "      <td>5/1/12</td>\n",
       "      <td>East</td>\n",
       "      <td>Decaf Espresso</td>\n",
       "      <td>Espresso</td>\n",
       "      <td>203</td>\n",
       "      <td>56</td>\n",
       "      <td>55</td>\n",
       "    </tr>\n",
       "    <tr>\n",
       "      <th>5</th>\n",
       "      <td>9/1/12</td>\n",
       "      <td>East</td>\n",
       "      <td>Lemon</td>\n",
       "      <td>Herbal Tea</td>\n",
       "      <td>171</td>\n",
       "      <td>26</td>\n",
       "      <td>73</td>\n",
       "    </tr>\n",
       "    <tr>\n",
       "      <th>6</th>\n",
       "      <td>9/1/13</td>\n",
       "      <td>Central</td>\n",
       "      <td>Caffe Mocha</td>\n",
       "      <td>Espresso</td>\n",
       "      <td>132</td>\n",
       "      <td>72</td>\n",
       "      <td>31</td>\n",
       "    </tr>\n",
       "    <tr>\n",
       "      <th>7</th>\n",
       "      <td>2/1/13</td>\n",
       "      <td>Central</td>\n",
       "      <td>Decaf Irish Cream</td>\n",
       "      <td>Coffee</td>\n",
       "      <td>225</td>\n",
       "      <td>160</td>\n",
       "      <td>56</td>\n",
       "    </tr>\n",
       "    <tr>\n",
       "      <th>...</th>\n",
       "      <td>...</td>\n",
       "      <td>...</td>\n",
       "      <td>...</td>\n",
       "      <td>...</td>\n",
       "      <td>...</td>\n",
       "      <td>...</td>\n",
       "      <td>...</td>\n",
       "    </tr>\n",
       "    <tr>\n",
       "      <th>9992</th>\n",
       "      <td>3/1/12</td>\n",
       "      <td>Central</td>\n",
       "      <td>Decaf Irish Cream</td>\n",
       "      <td>Coffee</td>\n",
       "      <td>104</td>\n",
       "      <td>20</td>\n",
       "      <td>34</td>\n",
       "    </tr>\n",
       "    <tr>\n",
       "      <th>9993</th>\n",
       "      <td>5/1/13</td>\n",
       "      <td>West</td>\n",
       "      <td>Lemon</td>\n",
       "      <td>Herbal Tea</td>\n",
       "      <td>504</td>\n",
       "      <td>291</td>\n",
       "      <td>127</td>\n",
       "    </tr>\n",
       "    <tr>\n",
       "      <th>9994</th>\n",
       "      <td>1/1/12</td>\n",
       "      <td>Central</td>\n",
       "      <td>Decaf Irish Cream</td>\n",
       "      <td>Coffee</td>\n",
       "      <td>310</td>\n",
       "      <td>163</td>\n",
       "      <td>36</td>\n",
       "    </tr>\n",
       "    <tr>\n",
       "      <th>9997</th>\n",
       "      <td>8/1/13</td>\n",
       "      <td>Central</td>\n",
       "      <td>Chamomile</td>\n",
       "      <td>Herbal Tea</td>\n",
       "      <td>61</td>\n",
       "      <td>21</td>\n",
       "      <td>21</td>\n",
       "    </tr>\n",
       "    <tr>\n",
       "      <th>9998</th>\n",
       "      <td>4/1/12</td>\n",
       "      <td>East</td>\n",
       "      <td>Caffe Mocha</td>\n",
       "      <td>Espresso</td>\n",
       "      <td>124</td>\n",
       "      <td>38</td>\n",
       "      <td>84</td>\n",
       "    </tr>\n",
       "  </tbody>\n",
       "</table>\n",
       "<p>7426 rows × 7 columns</p>\n",
       "</div>"
      ],
      "text/plain": [
       "       Ddate   Market            Product Product Type  Sales  Profit  Expenses\n",
       "0     9/1/13  Central  Decaf Irish Cream       Coffee     90      36        37\n",
       "1     5/1/12     East     Decaf Espresso     Espresso    203      56        55\n",
       "5     9/1/12     East              Lemon   Herbal Tea    171      26        73\n",
       "6     9/1/13  Central        Caffe Mocha     Espresso    132      72        31\n",
       "7     2/1/13  Central  Decaf Irish Cream       Coffee    225     160        56\n",
       "...      ...      ...                ...          ...    ...     ...       ...\n",
       "9992  3/1/12  Central  Decaf Irish Cream       Coffee    104      20        34\n",
       "9993  5/1/13     West              Lemon   Herbal Tea    504     291       127\n",
       "9994  1/1/12  Central  Decaf Irish Cream       Coffee    310     163        36\n",
       "9997  8/1/13  Central          Chamomile   Herbal Tea     61      21        21\n",
       "9998  4/1/12     East        Caffe Mocha     Espresso    124      38        84\n",
       "\n",
       "[7426 rows x 7 columns]"
      ]
     },
     "execution_count": 67,
     "metadata": {},
     "output_type": "execute_result"
    }
   ],
   "source": [
    "df_subset = df.groupby(\"Product\").filter(lambda x: x[\"Market\"].nunique() == 4)"
   ]
  },
  {
   "cell_type": "markdown",
   "id": "0601a9c9",
   "metadata": {},
   "source": [
    "_Check:_ If you created the column correctly, the following line of code should evaluate to `True`:"
   ]
  },
  {
   "cell_type": "code",
   "execution_count": 66,
   "id": "af047387",
   "metadata": {},
   "outputs": [
    {
     "data": {
      "text/plain": [
       "True"
      ]
     },
     "execution_count": 66,
     "metadata": {},
     "output_type": "execute_result"
    }
   ],
   "source": [
    "len(df_subset) == 7426"
   ]
  },
  {
   "cell_type": "markdown",
   "id": "3c634cc2",
   "metadata": {},
   "source": [
    "**10. Make a new column \"Profit Above Average\" that is `True` when the \"Profit\" is above the average of the dataset, and `False` otherwise.** Creating new columns can be a useful preprocessing step for further analyses or visualizations. Work with the original `df` here, select all rows where \"Profit\" is above average, and assign the result to the new column \"Profit Above Average\"."
   ]
  },
  {
   "cell_type": "code",
   "execution_count": 73,
   "id": "9b0ecb87",
   "metadata": {},
   "outputs": [],
   "source": [
    "df[\"Profit Above Average\"] = df[\"Profit\"] > df[\"Profit\"].mean()"
   ]
  },
  {
   "cell_type": "markdown",
   "id": "564b81e7",
   "metadata": {},
   "source": [
    "_Check:_ If you created the column correctly, the following line of code should evaluate to `True`:"
   ]
  },
  {
   "cell_type": "code",
   "execution_count": 70,
   "id": "0bebd770",
   "metadata": {},
   "outputs": [
    {
     "data": {
      "text/plain": [
       "True"
      ]
     },
     "execution_count": 70,
     "metadata": {},
     "output_type": "execute_result"
    }
   ],
   "source": [
    "df[\"Profit Above Average\"].sum() == 3401"
   ]
  },
  {
   "cell_type": "markdown",
   "id": "df347bad",
   "metadata": {},
   "source": [
    "**11. Transform the `Ddate` column into a `datetime` type.** The dataset contains a column `Ddate` which stores a date in month-day-year format. However, it's currently just stored as a string. In order to perform operations based on this date column (for example, grouping or filtering by month), it would be helpful to convert it to a proper Python `datetime` expression. _Transform_ the `Ddate` column from `string` into a `datetime` format."
   ]
  },
  {
   "cell_type": "code",
   "execution_count": 74,
   "id": "2d5d705e",
   "metadata": {},
   "outputs": [],
   "source": [
    "df[\"Ddate\"] = pd.to_datetime(df[\"Ddate\"])"
   ]
  },
  {
   "cell_type": "markdown",
   "id": "2c067f5d",
   "metadata": {},
   "source": [
    "_Check:_ If you transformed the column correctly, the following line of code should work and return `True`:"
   ]
  },
  {
   "cell_type": "code",
   "execution_count": 75,
   "id": "548ea2c1",
   "metadata": {},
   "outputs": [
    {
     "data": {
      "text/plain": [
       "True"
      ]
     },
     "execution_count": 75,
     "metadata": {},
     "output_type": "execute_result"
    }
   ],
   "source": [
    "sorted(df[\"Ddate\"].apply(lambda x: x.month).unique()) == list(range(1, 13))"
   ]
  },
  {
   "cell_type": "markdown",
   "id": "dc899203",
   "metadata": {},
   "source": [
    "**12. Perform min-max scaling on the `Expenses` column.** Some machine learning algorithms are sensitive to the absolute distance between data points. It's therefore sometimes necessary to _reshape_ your data. Here, we want to perform min-max scaling on a column, which means _transforming_ our data to fall within the $[0,1]$ range. In mathematical terms, this means applying the function:\n",
    "\n",
    "$$\n",
    "f(x) = \\frac{x - \\min (x)}{\\max (x) - \\min (x)}\n",
    "$$\n",
    "\n",
    "Perform this transformation on the `Expenses` column.\n",
    "\n",
    "_Hint:_ Don't try to do this one on one line; you probably want to write a helper function here for clarity."
   ]
  },
  {
   "cell_type": "code",
   "execution_count": 76,
   "id": "04d758a2",
   "metadata": {},
   "outputs": [],
   "source": [
    "df[\"Expenses\"] = (df[\"Expenses\"] - df[\"Expenses\"].min()) / (df[\"Expenses\"].max() - df[\"Expenses\"].min())"
   ]
  },
  {
   "cell_type": "markdown",
   "id": "39c77495",
   "metadata": {},
   "source": [
    "_Check:_ If you transformed the column correctly, the following line of code should evaluate to `True`:"
   ]
  },
  {
   "cell_type": "code",
   "execution_count": 77,
   "id": "3efcd8e0",
   "metadata": {},
   "outputs": [
    {
     "data": {
      "text/plain": [
       "True"
      ]
     },
     "execution_count": 77,
     "metadata": {},
     "output_type": "execute_result"
    }
   ],
   "source": [
    "df[\"Expenses\"].aggregate([min, max]).tolist() == [0.0, 1.0] and (\n",
    "    0.19 < df[\"Expenses\"].median() < 0.21\n",
    ")"
   ]
  },
  {
   "cell_type": "markdown",
   "id": "c82fb310",
   "metadata": {},
   "source": [
    "- - - \n",
    "## Combining Datasets\n",
    "\n",
    "The dataset we looked at contains data for the years 2012 and 2013. Let's assume we're getting additional data for the years 2014/2015 later, and want to merge these with the first dataset.  Since we modified the original dataset a lot in the exercises above, let's first reload it here, and then load the new \"extra\" dataset:"
   ]
  },
  {
   "cell_type": "code",
   "execution_count": null,
   "id": "cafd1153",
   "metadata": {},
   "outputs": [],
   "source": [
    "df = pd.read_csv(data)\n",
    "df_extra = pd.read_csv(\"data/coffee-chain-extra.csv\")\n",
    "df_extra"
   ]
  },
  {
   "cell_type": "markdown",
   "id": "77f98530",
   "metadata": {},
   "source": [
    "**13. Concatenate the two datasets `df` and `df_extra` into a DataFrame `df_new`,** making sure that the new, concatenated dataset **has no duplicate indices.** The result should be a DataFrame with 15,000 rows that has a numerical index (like our original datasets) from 0 to 14,999."
   ]
  },
  {
   "cell_type": "code",
   "execution_count": null,
   "id": "1a861d27",
   "metadata": {},
   "outputs": [],
   "source": [
    "df_new = ...  # Your code here"
   ]
  },
  {
   "cell_type": "markdown",
   "id": "cfad60f6",
   "metadata": {},
   "source": [
    "_Check:_ If you created the DataFrame correctly, the following should evaluate to `True`:"
   ]
  },
  {
   "cell_type": "code",
   "execution_count": null,
   "id": "15ed4a2e",
   "metadata": {},
   "outputs": [],
   "source": [
    "(len(df_new) == 15000) and (14999 in df_new.index)"
   ]
  },
  {
   "cell_type": "markdown",
   "id": "f3bd83e9",
   "metadata": {},
   "source": [
    "- - -\n",
    "\n",
    "Sometimes, we want to combine two datasets that have complementary information, i.e., different columns. For example, let's say we have this tiny dataset containing additional information about \"Market Size\" for each of our four markets:"
   ]
  },
  {
   "cell_type": "code",
   "execution_count": null,
   "id": "5c50a180",
   "metadata": {},
   "outputs": [],
   "source": [
    "df_markets = pd.DataFrame.from_dict(\n",
    "    {\n",
    "        \"Market\": [\"Central\", \"East\", \"West\", \"South\"],\n",
    "        \"Market Size\": [\"Major\", \"Major\", \"Major\", \"Minor\"],\n",
    "    }\n",
    ")\n",
    "df_markets"
   ]
  },
  {
   "cell_type": "markdown",
   "id": "8a4176b7",
   "metadata": {},
   "source": [
    "**14. Merge `df_new` with `df_markets`.** The resulting DataFrame should look just like `df_new`, but have an extra column \"Market Size\" whose value depends on the \"Market\" value of the given row."
   ]
  },
  {
   "cell_type": "code",
   "execution_count": null,
   "id": "3b293109",
   "metadata": {},
   "outputs": [],
   "source": [
    "# Your code here"
   ]
  },
  {
   "cell_type": "markdown",
   "id": "e364f77f",
   "metadata": {},
   "source": [
    "**15. Fill in missing data in the `Product Type` column.** You might have noticed that the `df_extra` dataset we loaded above is missing a column that the original `df` had: the \"Product Type\"!  Luckily, this information can be easily recovered, as the \"Product Type\" can be uniquely deduced from the \"Product\" (e.g., a \"Darjeeling\" product is always a \"Tea\"). However, the process to get there may be a little bit tricky.\n",
    "\n",
    "_Hint:_ First, try to get a DataFrame that has all unique `(Product, Product Type)` combinations. Then, you should be able to merge this with `df_extra`."
   ]
  },
  {
   "cell_type": "code",
   "execution_count": null,
   "id": "f6961447",
   "metadata": {},
   "outputs": [],
   "source": [
    "# Your code here"
   ]
  },
  {
   "cell_type": "markdown",
   "id": "fbbe9a37",
   "metadata": {},
   "source": [
    "- - - \n",
    "## Slightly harder bonus challenges"
   ]
  },
  {
   "cell_type": "markdown",
   "id": "b2f727ac",
   "metadata": {},
   "source": [
    "**16. Make a new column \"Top within Product\" that is `True` when the \"Profit\" is within the top 25% of its \"Product\" category.**\n",
    "\n",
    "_Hints:_\n",
    "\n",
    "1. Find the cutoff value for the top 25% in each \"Product\" category, and store this in a variable. (A keyword to look out for when obtaining the \"top 25%\" is _quantiles_...)\n",
    "2. Write a function that takes a Pandas Series and returns `True` if its \"Profit\" value is higher than the cutoff value for its \"Product\" category.\n",
    "3. [Apply](https://pandas.pydata.org/docs/user_guide/basics.html#row-or-column-wise-function-application) this function to each row of `df` to get your new column."
   ]
  },
  {
   "cell_type": "code",
   "execution_count": null,
   "id": "9ef15da6",
   "metadata": {},
   "outputs": [],
   "source": [
    "# Your code here"
   ]
  },
  {
   "cell_type": "markdown",
   "id": "814cb69d",
   "metadata": {},
   "source": [
    "_Check:_ If you created the column correctly, the following line of code should evaluate to `True`:"
   ]
  },
  {
   "cell_type": "code",
   "execution_count": null,
   "id": "024e46ef",
   "metadata": {},
   "outputs": [],
   "source": [
    "df[\"Top within Product\"].sum() == 2518"
   ]
  },
  {
   "cell_type": "markdown",
   "id": "2ad5a382",
   "metadata": {},
   "source": [
    "**17. Try to do the same as in Q15, but with `df_new`.** In other words, try to fill in the `NaN` values in the \"Product Type\" after you have already merged `df` and `df_extra` together. This can be quite tricky, and there are many possible ways to approach this."
   ]
  },
  {
   "cell_type": "code",
   "execution_count": null,
   "id": "5a8260d4",
   "metadata": {},
   "outputs": [],
   "source": [
    "# Your code here"
   ]
  }
 ],
 "metadata": {
  "kernelspec": {
   "display_name": ".venv",
   "language": "python",
   "name": "python3"
  },
  "language_info": {
   "codemirror_mode": {
    "name": "ipython",
    "version": 3
   },
   "file_extension": ".py",
   "mimetype": "text/x-python",
   "name": "python",
   "nbconvert_exporter": "python",
   "pygments_lexer": "ipython3",
   "version": "3.12.6"
  }
 },
 "nbformat": 4,
 "nbformat_minor": 5
}

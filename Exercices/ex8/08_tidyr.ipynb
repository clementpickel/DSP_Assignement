{
 "cells": [
  {
   "cell_type": "markdown",
   "id": "9de3dbe1",
   "metadata": {},
   "source": [
    "*Prepared for the course \"TDPS22: Data Science Programming\" at Jönköping University, Teacher: [Marcel Bollmann](mailto:marcel.bollmann@ju.se)*\n",
    "\n",
    "# Exercise 8: Data wrangling with tidyr & dplyr\n",
    "\n",
    "This notebook contains more exercises on data manipulation, this time focusing on tidying and joining data as described in [Chapter 12](https://r4ds.had.co.nz/tidy-data.html) and [Chapter 13](https://r4ds.had.co.nz/relational-data.html) of the book. We're using a lot of different datasets here to practice this in many different scenarios. We'll also briefly look at some functionality related to strings and factors.\n",
    "\n",
    "### Learning Goals\n",
    "\n",
    "- Understand _when a dataset is \"tidy\"_ and _how to bring a dataset into \"tidy\" format._\n",
    "- Understand _how to use joins_ to combine and filter datasets.\n",
    "- Have a basic understanding of _strings_ and _factors_ and how to manipulate them.\n",
    "\n",
    "### Useful Resources\n",
    "\n",
    "+ [§12 \"Tidy data\" in _R for Data Science_](https://r4ds.had.co.nz/tidy-data.html)\n",
    "+ [§13 \"Relational data\" in _R for Data Science_](https://r4ds.had.co.nz/relational-data.html)\n",
    "+ [§14 \"Strings\" in _R for Data Science_](https://r4ds.had.co.nz/strings.html)\n",
    "+ [§15 \"Factors\" in _R for Data Science_](https://r4ds.had.co.nz/factors.html)\n",
    "+ [RStudio Cheatsheets](https://www.rstudio.com/resources/cheatsheets/)\n",
    "\n",
    "- - -\n"
   ]
  },
  {
   "cell_type": "code",
   "execution_count": null,
   "id": "ab5ad40d",
   "metadata": {},
   "outputs": [],
   "source": [
    "library(tidyverse)\n",
    "library(lubridate)"
   ]
  },
  {
   "cell_type": "markdown",
   "id": "1e8698eb-9557-45e6-a2d7-7884eb5aa428",
   "metadata": {},
   "source": [
    "- - -\n",
    "\n",
    "### Datasets\n",
    "\n",
    "We're using the Sweden vehicle registration dataset from Assignment 1; a dataset with Swedish population statistics; the coffee chain datasets that we saw before; and a modified sample of the Yu-Gi-Oh! dataset from Exercise 3. We'll try to reproduce some of the data wrangling that we've done before in Python."
   ]
  },
  {
   "cell_type": "code",
   "execution_count": null,
   "id": "bc2c269f-4569-469c-9e3d-c3105bca6679",
   "metadata": {},
   "outputs": [],
   "source": [
    "vehicle <- read_csv(\"data/sweden-vehicle.csv\")\n",
    "population <- read_csv(\"data/sweden-population.csv\", col_types=\"fDi\")\n",
    "coffee1 <- read_csv(\"data/coffee-chain.csv\", col_types=\"cfffiii\") %>% mutate(Ddate = mdy(Ddate))\n",
    "coffee2 <- read_csv(\"data/coffee-chain-extra.csv\", col_types=\"cffiii\") %>% mutate(Ddate = mdy(Ddate))\n",
    "yugioh <- read_csv(\"data/yu-gi-oh-messy.csv\", col_types=\"ccccc\")"
   ]
  },
  {
   "cell_type": "markdown",
   "id": "2818ce5f-a77c-4f44-9eef-cd8b462edcf3",
   "metadata": {},
   "source": [
    "For the `vehicle` dataset, the inferred column types are `<chr>` (for strings) and `<dbl>` (for continuous numbers), but actually it would make more sense for them to be _factors_ and _integers_.  Here, you see a way to **mutate** these columns without listing all the numeric columns explicitly (as there are _a lot_ of them!):"
   ]
  },
  {
   "cell_type": "code",
   "execution_count": null,
   "id": "ee38b52e-2567-4840-aab5-3afe997beb6f",
   "metadata": {},
   "outputs": [],
   "source": [
    "vehicle <- mutate(\n",
    "             vehicle,\n",
    "             region = as.factor(region),\n",
    "             fuel = as.factor(fuel),\n",
    "             across(where(is.double), as.integer)\n",
    "           )\n",
    "\n",
    "head(vehicle)"
   ]
  },
  {
   "cell_type": "markdown",
   "id": "2a1f9d54-debc-41c7-a7d2-dd22c8a36077",
   "metadata": {},
   "source": [
    "- - - \n",
    "\n",
    "## Tidy data and pivoting\n",
    "\n",
    "In Assignment 1, we converted the Sweden vehicle registration dataset into a form like this:\n",
    "\n",
    "| **region** | **fuel**         | **date**    | **vehicles** |\n",
    "|------------|------------------|-------------|--------------|\n",
    "| Stockholm  | petrol           | 2006-01-01  | 2824         |\n",
    "| Stockholm  | diesel           | 2006-01-01  | 884          |\n",
    "| Stockholm  | electricity      | 2006-01-01  | 1            |\n",
    "| ...        | ...              | ...         | ...          |\n",
    "\n",
    "In the Tidyverse, this corresponds to a _tidy dataset_:\n",
    "\n",
    "- each column corresponds to one _variable_ (region, fuel, date, number of registered vehicles);\n",
    "- each row corresponds to one _observation_ (the number of registered vehicles of a certain type, at a specific region and date);\n",
    "- each cell contains exactly one _value_.\n",
    "\n",
    "_(Aside: You could argue that dates or date-times consist of *multiple* values: year, month, day, etc.; however, since these logically belong together and can be represented by & easily transformed as a single data type, it makes sense to treat them as \"single\" values.)_\n"
   ]
  },
  {
   "cell_type": "markdown",
   "id": "da43caba-730c-4e9b-b741-419b479bf1cd",
   "metadata": {},
   "source": [
    "**1. Transform the `vehicle` dataset into a tidy version!** It's easiest if you think about this in two steps:\n",
    "\n",
    "- _pivoting_ the dataset into a _longer form_, i.e., converting the columns \"2006M01\", \"2006M02\", ... into a variable that has its own column;\n",
    "- _transforming/mutating_ the new column to parse the string into an actual _date_ object."
   ]
  },
  {
   "cell_type": "code",
   "execution_count": null,
   "id": "9aee531b-7ef2-454b-ba4d-a69276403d53",
   "metadata": {},
   "outputs": [],
   "source": [
    "# YOUR CODE HERE"
   ]
  },
  {
   "cell_type": "markdown",
   "id": "ae53f960-ddbc-4d7b-8e20-a342b82650de",
   "metadata": {},
   "source": [
    "Next, let's look at a small subset of the Yu-Gi-Oh! dataset which I transformed a little bit to make it \"messy\":"
   ]
  },
  {
   "cell_type": "code",
   "execution_count": null,
   "id": "d2e2ccc8-d593-47f7-8929-c21de8647f65",
   "metadata": {},
   "outputs": [],
   "source": [
    "head(yugioh)"
   ]
  },
  {
   "cell_type": "markdown",
   "id": "cc66c8fd-b552-41af-a44f-45bf9e0e9456",
   "metadata": {},
   "source": [
    "**2. Tidy up this messy `yugioh` dataset!** As it stands, the dataset has multiple features that make it \"messy\" or \"untidy\", and which you should address:\n",
    "\n",
    "- Some variables (level, ATK or _attack points_, DEF or _defense points_) are spread across multiple rows\n",
    "- Name, attributes, and sub-types of a card are not repeated on subsequent rows\n",
    "- ATK and DEF are represented in a single cell\n",
    "\n",
    "_Bonus:_ Also convert the columns of the tidied dataset to appropriate types!"
   ]
  },
  {
   "cell_type": "code",
   "execution_count": null,
   "id": "be9552f6-e96a-477e-84e2-18abb4ec3faa",
   "metadata": {},
   "outputs": [],
   "source": [
    "# YOUR CODE HERE"
   ]
  },
  {
   "cell_type": "markdown",
   "id": "cc7e37ed-dac5-45c8-850d-d521321fcaef",
   "metadata": {},
   "source": [
    "**3. Tidy up the \"pregnancy\" data below!** This exercise is taken from the book. It defines a simple contingency table showing counts of male and female persons and whether they are pregnant or not. Think about the principles of tidy data – i.e., what are the variables, observations, values? – and bring the dataset into a tidy form."
   ]
  },
  {
   "cell_type": "code",
   "execution_count": null,
   "id": "951ee76b-14cb-4bc1-9c7c-93dac6494e93",
   "metadata": {},
   "outputs": [],
   "source": [
    "(preg <- tribble(\n",
    "  ~pregnant, ~male, ~female,\n",
    "  \"yes\",     NA,    10,\n",
    "  \"no\",      20,    12\n",
    "))"
   ]
  },
  {
   "cell_type": "code",
   "execution_count": null,
   "id": "3ee3abed-fc36-4b1b-8166-d84f9afe1622",
   "metadata": {},
   "outputs": [],
   "source": [
    "# YOUR CODE HERE"
   ]
  },
  {
   "cell_type": "markdown",
   "id": "5e3c3a6e-1dea-4133-a9b4-8df649185c7e",
   "metadata": {},
   "source": [
    "Finally, we'll turn to the Coffee Chain dataset again. In Exercise 1, Q8, we used a \"pivot table\" in Pandas to answer the question \"How many instances are there in the dataset of each product–market combination?\"  How can we produce a similar-looking table in R?\n",
    "\n",
    "**4. Produce a \"pivot table\" from `coffee1` that shows the number of instances for each product–market combination!** The challenge here is that \"pivot tables\" in Pandas automatically perform some aggregation (e.g., counting the instances) for us, whereas `pivot_longer()` and `pivot_wider()` in `tidyr` _do not do that._ You therefore need to combine pivoting with computing the appropriate aggregation yourself (with functions we practised in Exercise 7).\n",
    "\n",
    "As a reminder, in the end you should ideally have a table that looks something like this:\n",
    "\n",
    "| Product            | Central | East | West | South |\n",
    "|--------------------|---------|------|------|-------|\n",
    "| Decaf Irish Cream  | 1189    | 560  | 789  | 578   |\n",
    "| Decaf Espresso     | 227     | 328  | 460  | 134   |\n",
    "| Caffe Latte        | 0       | 0    | 148  | 144   |\n",
    "| ...                | ...     | ...  | ...  | ...   |\n"
   ]
  },
  {
   "cell_type": "code",
   "execution_count": null,
   "id": "44f8b06e-40e1-41f8-aec8-d2e6b8faa0fb",
   "metadata": {},
   "outputs": [],
   "source": [
    "# YOUR CODE HERE"
   ]
  },
  {
   "cell_type": "markdown",
   "id": "fb380324-1c7e-476d-8223-0664a026cf8a",
   "metadata": {},
   "source": [
    "- - - \n",
    "\n",
    "## Relational data, _aka_ combining datasets\n",
    "\n",
    "In Exercise 1, we worked with the Coffee Chain dataset, and (among other things) practiced dataset combination with it. Let's try to recreate some of the things we did there in R.\n",
    "\n",
    "First, we'd like to **concatenate** the `coffee1` and `coffee2` data. Unfortunately, the book doesn't directly mention how to do this! While technically possible to do with joins in this case, they're not quite the right the tool for the job, as the semantics of joins is that you're merging two datasets based on some kind of \"ID\" column(s).  Here, it's much better to use `dplyr::bind_rows()`:"
   ]
  },
  {
   "cell_type": "code",
   "execution_count": null,
   "id": "c07733dd-3b30-4451-813a-e8045d14e04e",
   "metadata": {},
   "outputs": [],
   "source": [
    "coffee <- bind_rows(coffee1, coffee2)\n",
    "nrow(coffee)  # confirm we have 15,000 rows"
   ]
  },
  {
   "cell_type": "markdown",
   "id": "baae18c7-0f70-44d7-99bf-a0270da533bc",
   "metadata": {},
   "source": [
    "**5. Merge `coffee` with the `markets` variable defined below!**  The resulting dataset should look just like `coffee`, but have an extra column \"Market Size\" whose value depends on the \"Market\" value of the given row."
   ]
  },
  {
   "cell_type": "code",
   "execution_count": null,
   "id": "727bd4e3-0c84-4024-b6d2-65990a0bed7e",
   "metadata": {},
   "outputs": [],
   "source": [
    "(markets <- tibble(\n",
    "    Market = c(\"Central\", \"East\", \"West\", \"South\"),\n",
    "    `Market Size` = c(\"Major\", \"Major\", \"Major\", \"Minor\"),\n",
    ") %>% mutate_all(as.factor))"
   ]
  },
  {
   "cell_type": "code",
   "execution_count": null,
   "id": "dfff9ef3-bd1c-4d2a-8a64-305e980c403c",
   "metadata": {},
   "outputs": [],
   "source": [
    "# YOUR CODE HERE"
   ]
  },
  {
   "cell_type": "markdown",
   "id": "3159592a-05a3-4a87-8373-fea613faf265",
   "metadata": {},
   "source": [
    "**6. Fill in missing data in the `Product Type` column.**  Remember that the \"Product Type\" column had missing values, which could be uniquely deduced from the \"Product\" (e.g., a \"Darjeeling\" product is always a \"Tea\"). We can solve this here the same way as in Python, by first producing a dataset with all unique `(Product, Product Type)` combinations, and then joining this with our main dataset.\n",
    "\n",
    "Some notes:\n",
    "\n",
    "- Think carefully about _which type of join_ is appropriate in this situation.\n",
    "- Make sure the final `coffee` dataset only has a single \"Product Type\" column, not two different ones."
   ]
  },
  {
   "cell_type": "code",
   "execution_count": null,
   "id": "aaa97b27-671f-48bf-ab5c-44f5707af9cd",
   "metadata": {},
   "outputs": [],
   "source": [
    "# YOUR CODE HERE"
   ]
  },
  {
   "cell_type": "markdown",
   "id": "89e85102-5332-4003-8210-61856721534e",
   "metadata": {},
   "source": [
    "**7. Merge the tidy `vehicle` dataset with the `population` dataset!** The `vehicle` dataset contains vehicle registration per region and date, while the `population` dataset contains population statistics per region and date. Join these two dataset in an appropriate way.\n",
    "\n",
    "You will notice that the `population` dataset doesn't contain values for the entire date range in the `vehicle` dataset. Which type of join do you have to use when...\n",
    "\n",
    "- you want to keep _all_ observation in `vehicle`, and accept that sometimes the population count has missing values?\n",
    "- you want to keep _only_ those observations where you also have population data?"
   ]
  },
  {
   "cell_type": "code",
   "execution_count": null,
   "id": "8447fa58-e92d-43c4-8e2a-4e1983aa7a10",
   "metadata": {},
   "outputs": [],
   "source": [
    "# YOUR CODE HERE"
   ]
  },
  {
   "cell_type": "markdown",
   "id": "a5135b07-803f-4818-b7e7-0cb09ad319e2",
   "metadata": {},
   "source": [
    "**8. Use a _filtering join_ to get only those rows in `vehicle` for which we do _not_ have population data!**  Also get a vector of the missing dates."
   ]
  },
  {
   "cell_type": "code",
   "execution_count": null,
   "id": "d5b763f3-a4d6-4489-aa23-c40784007fee",
   "metadata": {},
   "outputs": [],
   "source": [
    "# YOUR CODE HERE"
   ]
  },
  {
   "cell_type": "markdown",
   "id": "b9f58559-4330-4cd4-ab27-08dfaba01eab",
   "metadata": {},
   "source": [
    "- - - \n",
    "\n",
    "## Strings, factors, and advanced operations\n",
    "\n",
    "The book has a [chapter on strings and string manipulation](https://r4ds.had.co.nz/strings.html), but we're not going into this here in detail; instead, we'll just look at an example of using functions to automatically convert strings to lower, upper, or title case, which can occasionally come in handy:"
   ]
  },
  {
   "cell_type": "code",
   "execution_count": null,
   "id": "63fccb49-4a56-4e90-a3d4-a56ae49e52c4",
   "metadata": {},
   "outputs": [],
   "source": [
    "mystr <- \"this Is a wEIRdly FORMATTED strING.\"\n",
    "str_to_lower(mystr)\n",
    "str_to_upper(mystr)\n",
    "str_to_title(mystr)"
   ]
  },
  {
   "cell_type": "markdown",
   "id": "4d3444ef-668e-41d8-aec6-1a74ef06d042",
   "metadata": {},
   "source": [
    "**9. In the `vehicle` dataset, convert the \"fuel\" column to have all values in title case!**"
   ]
  },
  {
   "cell_type": "code",
   "execution_count": null,
   "id": "28beea57-8899-4d92-ad92-4de1d0c8495e",
   "metadata": {},
   "outputs": [],
   "source": [
    "# YOUR CODE HERE"
   ]
  },
  {
   "cell_type": "markdown",
   "id": "10fb1fe6-516d-429a-a681-7760df9e28ca",
   "metadata": {},
   "source": [
    "Another data type that we have used, but not really looked at more closely, is the **factor**. In the `vehicle` dataset, for example, the \"region\" column is encoded as a factor:"
   ]
  },
  {
   "cell_type": "code",
   "execution_count": null,
   "id": "72a250bb-2fe5-4c90-af74-6e15f72f7b85",
   "metadata": {},
   "outputs": [],
   "source": [
    "is.factor(vehicle$region)"
   ]
  },
  {
   "cell_type": "markdown",
   "id": "5a40ed22-44be-4dfb-82d8-8e32a1b551e2",
   "metadata": {},
   "source": [
    "**10. Make sure that \"fuel\" is also a factor, and get the possible _levels_ of the factors \"region\" and \"fuel\" with the `levels()` command!** If \"fuel\" is not currently a factor, why do you think that is? Convert it (back) into a factor if necessary!"
   ]
  },
  {
   "cell_type": "code",
   "execution_count": null,
   "id": "32d2c0e0-b16c-4a59-95f4-8dadc293c41e",
   "metadata": {},
   "outputs": [],
   "source": [
    "# YOUR CODE HERE"
   ]
  },
  {
   "cell_type": "markdown",
   "id": "9e5b007b-a761-426d-a415-861a66592e97",
   "metadata": {},
   "source": [
    "**11. Re-order the \"fuel\" factor to be sorted by the number of total vehicle registrations (in the following plot)!** If we produce a simple plot of the number of vehicle registrations _per fuel type_, we can see that \"fuel\" is ordered alphabetically be default _(note that you need to have tidied up the dataset as in Q1 first for this to work!)_:"
   ]
  },
  {
   "cell_type": "code",
   "execution_count": null,
   "id": "0b72aa51-18cc-4eb5-8bc6-6bee6f79bb47",
   "metadata": {},
   "outputs": [],
   "source": [
    "vehicle %>%\n",
    "  group_by(fuel) %>%\n",
    "  summarise(total_vehicles = sum(vehicles)) %>%\n",
    "  ggplot(aes(total_vehicles, fuel)) +\n",
    "    geom_col()"
   ]
  },
  {
   "cell_type": "markdown",
   "id": "243b1d59-5ece-4194-a4c1-bfb459e724ee",
   "metadata": {},
   "source": [
    "Change the plot by using `fct_reorder()` so that the different fuel types appear sorted (ascending or descending, your choice) by \"total_vehicles\"!"
   ]
  },
  {
   "cell_type": "code",
   "execution_count": null,
   "id": "4eb3be7c-9505-4d4e-9eae-f10ba404df19",
   "metadata": {},
   "outputs": [],
   "source": [
    "# YOUR CODE HERE"
   ]
  },
  {
   "cell_type": "markdown",
   "id": "4cf3c373-a72a-44f5-9481-b81e4ef13515",
   "metadata": {},
   "source": [
    "**12. Produce the same plot as in Q11, but with the \"fuel\" factor _re-coded_ as described in the table below!**\n",
    "\n",
    "| Old value(s)                                  | New value    |\n",
    "|-----------------------------------------------|--------------|\n",
    "| Diesel                                        | Diesel       |\n",
    "| Petrol                                        | Gasoline     |\n",
    "| Electricity, Electric Hybrid, Plug-In Hybrid  | Electric     |\n",
    "| Ethanol/Ethanol Flexifuel                     | Ethanol      |\n",
    "| Gas/Gas Flex, Other Fuels                     | Other        |\n"
   ]
  },
  {
   "cell_type": "code",
   "execution_count": null,
   "id": "3aa48ec5-c965-4676-be09-83754a81e01a",
   "metadata": {},
   "outputs": [],
   "source": [
    "# YOUR CODE HERE"
   ]
  },
  {
   "cell_type": "markdown",
   "id": "46e9d02e-0811-427d-88b1-0c2a9197bc9f",
   "metadata": {},
   "source": [
    "**13. Try to use `fct_lump()` to reduce the levels in the plot from Q11.** The book mentions `fct_lump()` as the solution when \"you just want to lump together all the small groups to make a plot or table simpler\". This sounds like we could use that to make our plot from Q11 simpler, right? Figure out what happens if you try to use `fct_lump()` in connection with the plot from Q11. If the results don't look like you expect, try to figure out why! This is a bit deceiving."
   ]
  },
  {
   "cell_type": "code",
   "execution_count": null,
   "id": "7803180c-91cb-4a76-8abf-53f750bdf201",
   "metadata": {},
   "outputs": [],
   "source": [
    "# YOUR CODE HERE"
   ]
  },
  {
   "cell_type": "markdown",
   "id": "3d7ee5dd-44ea-43be-8d4c-e88346dce5df",
   "metadata": {},
   "source": [
    "**14. In the `coffee` dataset, make a new column \"Top within Product\" that is `True` when the \"Profit\" is within the top 25% of its \"Product\" category.**\n",
    "\n",
    "Moving away from factors, this is a task we've seen in the Python exercises, and again, this can be quite challenging! However, it can be solved entirely with the functionality we have learned so far (even in a single pipeline, if you want!), with only one extra ingredient you might need: to get the cutoff for the \"top 25%\", look up the `quantile()` function."
   ]
  },
  {
   "cell_type": "code",
   "execution_count": null,
   "id": "7ee71821-1bfb-4f68-ae18-9e3ee8e59698",
   "metadata": {},
   "outputs": [],
   "source": [
    "# YOUR CODE HERE"
   ]
  },
  {
   "cell_type": "markdown",
   "id": "0936e692-0703-4cba-9b16-5b2cbbc7491f",
   "metadata": {},
   "source": [
    "If you have added the column correctly, the following line should return \"3725\":"
   ]
  },
  {
   "cell_type": "code",
   "execution_count": null,
   "id": "231cc5b6-7d85-44f4-8809-eaa1bf285d3d",
   "metadata": {},
   "outputs": [],
   "source": [
    "summarise(coffee, x = sum(`Top within Product`))$x"
   ]
  }
 ],
 "metadata": {
  "kernelspec": {
   "display_name": "R",
   "language": "R",
   "name": "ir"
  },
  "language_info": {
   "codemirror_mode": "r",
   "file_extension": ".r",
   "mimetype": "text/x-r-source",
   "name": "R",
   "pygments_lexer": "r",
   "version": "4.0.5"
  }
 },
 "nbformat": 4,
 "nbformat_minor": 5
}

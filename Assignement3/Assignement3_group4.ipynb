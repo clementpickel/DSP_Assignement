{
 "cells": [
  {
   "cell_type": "markdown",
   "metadata": {},
   "source": [
    "# Assignment 3 - Visualization\n",
    "\n",
    "In this assignment, you work in the groups you already are divided into. you need to define at least one task based on each of the exercises 2, 3 and 9. All together three tasks. You have to apply the tasks on the same dataset that you used in Assignment 1 and 2. \n",
    "\n",
    "You will hand in the assignment through a Jupyter notebook, along with your environment and the dataset you picked, both zipped together and submitted as one file. Please name your file so that it contains your group number. It is important that you clearly state the tasks you are performing on the dataset as questions or something similar in the notebook before you do the operations on the data. Also make sure to document your solutions and your thinking so that it can easily be followed. If you fail to do these things you may not pass this assignment.\n",
    "\n",
    "The deadline of this assignment is on May 10, 2025 to get bonus points, or before the exam (in which case no bonus points are awarded).\n",
    "\n",
    "Re-submission 1 is by the end of week 33, 2025.\n",
    "\n",
    "Re-submission 2 is by the end of week 2, 2026."
   ]
  }
 ],
 "metadata": {
  "language_info": {
   "name": "python"
  }
 },
 "nbformat": 4,
 "nbformat_minor": 2
}

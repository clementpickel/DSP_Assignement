{
 "cells": [
  {
   "cell_type": "markdown",
   "metadata": {},
   "source": [
    "# Assignement 1\n",
    "\n",
    "You will hand in the assignment through a Jupyter notebook, also with your environment and the dataset you picked, both zipped together and submitted as one file. Please name your file so that it contains your group number. It is important that you clearly state the tasks you are performing on the dataset as questions or something similar in the notebook before you do the operations on the data. Also make sure to document your solutions and your thinking so that it can easily be followed. If you fail to do these things, you may not pass this assignment.\n",
    "\n",
    "The deadline of this assignment is on April 12, 2025 to get bonus points, or before the exam (in which case no bonus points are awarded).\n",
    "\n",
    "Re-submission 1 is by the end of week 33, 2025.\n",
    "\n",
    "Re-submission 2 is by the end of week 2, 2026."
   ]
  },
  {
   "cell_type": "markdown",
   "metadata": {},
   "source": [
    "# Exercice 1 task\n",
    "- Data exploration\n",
    "- Data proprocessing\n",
    "- Combining datasets\n",
    "\n",
    "We choosed to go with Data exploration. We are gonna see the different sectors and gas present in the dataset, the years and is there is any missing values."
   ]
  },
  {
   "cell_type": "markdown",
   "metadata": {},
   "source": [
    "# Open the csv"
   ]
  },
  {
   "cell_type": "code",
   "execution_count": 2,
   "metadata": {},
   "outputs": [
    {
     "name": "stdout",
     "output_type": "stream",
     "text": [
      "                               greenhouse gas  \\\n",
      "0        Total Greenhouse Gases (kt CO2-eqv.)   \n",
      "1        Total Greenhouse Gases (kt CO2-eqv.)   \n",
      "2        Total Greenhouse Gases (kt CO2-eqv.)   \n",
      "3        Total Greenhouse Gases (kt CO2-eqv.)   \n",
      "4        Total Greenhouse Gases (kt CO2-eqv.)   \n",
      "..                                        ...   \n",
      "149  Sulphur Hexafluoride (SF6) (kt CO2-eqv.)   \n",
      "150  Sulphur Hexafluoride (SF6) (kt CO2-eqv.)   \n",
      "151  Sulphur Hexafluoride (SF6) (kt CO2-eqv.)   \n",
      "152  Sulphur Hexafluoride (SF6) (kt CO2-eqv.)   \n",
      "153  Sulphur Hexafluoride (SF6) (kt CO2-eqv.)   \n",
      "\n",
      "                                                sector     1990     1991  \\\n",
      "0    NATIONAL TOTAL (excluding LULUCF, excluding in...  71203.3  71338.8   \n",
      "1    NATIONAL TOTAL (excluding LULUCF, including in...  74942.3  75103.8   \n",
      "2    NATIONAL TOTAL (including LULUCF, excluding in...  11863.2  12988.4   \n",
      "3    NATIONAL TOTAL (including LULUCF, including in...  15602.2  16753.4   \n",
      "4         OFF-ROAD VEHICLES AND OTHER MACHINERY, TOTAL   3682.5   3773.5   \n",
      "..                                                 ...      ...      ...   \n",
      "149                     INTERNATIONAL TRANSPORT, TOTAL      NaN      NaN   \n",
      "150                                 AGRICULTURE, TOTAL      NaN      NaN   \n",
      "151           SOLVENT USE AND OTHER PRODUCT USE, TOTAL     81.4     81.6   \n",
      "152              HEATING OF HOUSES AND PREMISES, TOTAL      NaN      NaN   \n",
      "153  LAND-USE, LAND-USE CHANGE AND FORESTRY (LULUCF...      NaN      NaN   \n",
      "\n",
      "        1992     1993     1994     1995     1996     1997  ...     2014  \\\n",
      "0    71022.5  71242.7  73749.3  73135.2  77030.2  72145.4  ...  53481.9   \n",
      "1    74935.1  75408.3  78554.0  78019.4  82142.9  78075.2  ...  61492.3   \n",
      "2    13579.8  17635.4  18592.5  17858.9  19616.0  13375.8  ...  -4299.4   \n",
      "3    17492.4  21801.0  23397.2  22743.1  24728.6  19305.6  ...   3710.9   \n",
      "4     4176.6   3930.2   3962.2   3747.9   3605.7   3636.9  ...   2971.8   \n",
      "..       ...      ...      ...      ...      ...      ...  ...      ...   \n",
      "149      NaN      NaN      NaN      NaN      NaN      NaN  ...      NaN   \n",
      "150      NaN      NaN      NaN      NaN      NaN      NaN  ...      NaN   \n",
      "151     81.4     78.1     82.2    111.0     87.5    121.3  ...     31.1   \n",
      "152      NaN      NaN      NaN      NaN      NaN      NaN  ...      NaN   \n",
      "153      NaN      NaN      NaN      NaN      NaN      NaN  ...      NaN   \n",
      "\n",
      "        2015     2016     2017     2018     2019     2020     2021     2022  \\\n",
      "0    53283.7  53198.3  52294.3  51434.3  50196.4  45981.9  47721.8  45215.4   \n",
      "1    61348.7  62200.6  62518.3  60125.1  60011.4  55346.9  56335.5  54146.8   \n",
      "2    -2033.0    756.6   5922.3  11653.5  10429.0   6630.6  11055.3  11601.4   \n",
      "3     6032.1   9758.9  16146.3  20344.3  20244.0  15995.5  19669.1  20532.8   \n",
      "4     2990.7   2791.1   2760.0   2659.3   2823.8   2828.2   2889.0   2592.0   \n",
      "..       ...      ...      ...      ...      ...      ...      ...      ...   \n",
      "149      NaN      NaN      NaN      NaN      NaN      NaN      NaN      NaN   \n",
      "150      NaN      NaN      NaN      NaN      NaN      NaN      NaN      NaN   \n",
      "151     37.0     38.8     34.0     34.0     35.3     38.2     39.6     38.6   \n",
      "152      NaN      NaN      NaN      NaN      NaN      NaN      NaN      NaN   \n",
      "153      NaN      NaN      NaN      NaN      NaN      NaN      NaN      NaN   \n",
      "\n",
      "        2023  \n",
      "0    44386.0  \n",
      "1    51956.4  \n",
      "2    13162.4  \n",
      "3    20732.8  \n",
      "4     2705.9  \n",
      "..       ...  \n",
      "149      NaN  \n",
      "150      NaN  \n",
      "151     38.0  \n",
      "152      NaN  \n",
      "153      NaN  \n",
      "\n",
      "[154 rows x 36 columns]\n"
     ]
    }
   ],
   "source": [
    "import pandas as pd\n",
    "\n",
    "# Read the data from the csv and print it to be sure it worked\n",
    "df = pd.read_csv('../Total air emissions by greenhouse gas.csv', na_values=\"..\")\n",
    "print(df)"
   ]
  },
  {
   "cell_type": "code",
   "execution_count": 3,
   "metadata": {},
   "outputs": [
    {
     "name": "stdout",
     "output_type": "stream",
     "text": [
      "Total missing values: 1339\n",
      "\n",
      "Missing values by column:\n",
      "greenhouse gas     0\n",
      "sector             0\n",
      "1990              42\n",
      "1991              41\n",
      "1992              41\n",
      "1993              41\n",
      "1994              41\n",
      "1995              40\n",
      "1996              40\n",
      "1997              40\n",
      "1998              39\n",
      "1999              39\n",
      "2000              39\n",
      "2001              39\n",
      "2002              39\n",
      "2003              38\n",
      "2004              38\n",
      "2005              39\n",
      "2006              39\n",
      "2007              39\n",
      "2008              39\n",
      "2009              39\n",
      "2010              39\n",
      "2011              39\n",
      "2012              38\n",
      "2013              38\n",
      "2014              39\n",
      "2015              39\n",
      "2016              39\n",
      "2017              38\n",
      "2018              39\n",
      "2019              39\n",
      "2020              40\n",
      "2021              40\n",
      "2022              40\n",
      "2023              40\n",
      "dtype: int64\n",
      "0       0\n",
      "1       0\n",
      "2       0\n",
      "3       0\n",
      "4       0\n",
      "       ..\n",
      "149    34\n",
      "150    34\n",
      "151     0\n",
      "152    34\n",
      "153    34\n",
      "Length: 154, dtype: int64\n"
     ]
    },
    {
     "data": {
      "image/png": "[encoded data removed]",
      "text/plain": [
       "<Figure size 640x480 with 1 Axes>"
      ]
     },
     "metadata": {},
     "output_type": "display_data"
    }
   ],
   "source": [
    "# Total missing values\n",
    "tot_na = pd.isna(df).sum().sum()\n",
    "print(f\"Total missing values: {tot_na}\\n\")\n",
    "\n",
    "# Missing values by column\n",
    "row_na = pd.isna(df).sum()\n",
    "print(f\"Missing values by column:\\n{row_na}\")\n",
    "\n",
    "#missing values by row\n",
    "missing_per_row = df.isnull().sum(axis=1)\n",
    "print(missing_per_row)\n",
    "\n",
    "# Heatmap of missing values\n",
    "import seaborn as sns\n",
    "import matplotlib.pyplot as plt\n",
    "\n",
    "sns.heatmap(df.isnull(), cmap=\"viridis\", cbar=False)\n",
    "plt.show()"
   ]
  },
  {
   "cell_type": "markdown",
   "metadata": {},
   "source": [
    "# Different gases and sectors\n",
    "Print all different gases and sectors"
   ]
  },
  {
   "cell_type": "code",
   "execution_count": null,
   "metadata": {},
   "outputs": [
    {
     "name": "stdout",
     "output_type": "stream",
     "text": [
      "Unique greenhouse gases:\n",
      "\tTotal Greenhouse Gases (kt CO2-eqv.)\n",
      "\tCarbon Dioxide (CO2) (kt)\n",
      "\tBiogenic carbon dioxide (CO2) from fuels (kt)\n",
      "\tMethane (CH4) (t)\n",
      "\tNitrous Oxide (N2O) (kt CO2-eqv.)\n",
      "\tMethane (CH4) (kt CO2-eqv.)\n",
      "\tNitrous Oxide (N2O) (t)\n",
      "\tHydrofluorocarbons (HFCs) (kt CO2-eqv.)\n",
      "\tPerfluorocarbons (PFCs) (kt CO2-eqv.)\n",
      "\tSulphur Hexafluoride (SF6) (kg)\n",
      "\tSulphur Hexafluoride (SF6) (kt CO2-eqv.)\n",
      "Unique sectors:\n",
      "\tNATIONAL TOTAL (excluding LULUCF, excluding international transports)\n",
      "\tNATIONAL TOTAL (excluding LULUCF, including international transports)\n",
      "\tNATIONAL TOTAL (including LULUCF, excluding international transports)\n",
      "\tNATIONAL TOTAL (including LULUCF, including international transports)\n",
      "\tOFF-ROAD VEHICLES AND OTHER MACHINERY, TOTAL\n",
      "\tWASTE, TOTAL\n",
      "\tELECTRICITY AND DISTRICT HEATING, TOTAL\n",
      "\tINDUSTRY, TOTAL\n",
      "\tDOMESTIC TRANSPORT, TOTAL\n",
      "\tINTERNATIONAL TRANSPORT, TOTAL\n",
      "\tAGRICULTURE, TOTAL\n",
      "\tSOLVENT USE AND OTHER PRODUCT USE, TOTAL\n",
      "\tHEATING OF HOUSES AND PREMISES, TOTAL\n",
      "\tLAND-USE, LAND-USE CHANGE AND FORESTRY (LULUCF), TOTAL\n"
     ]
    }
   ],
   "source": [
    "def print_list(title, lst):\n",
    "    print(title)\n",
    "    for i in lst:\n",
    "        print(f\"\\t{i}\")\n",
    "\n",
    "print_list(\"Unique greenhouse gases:\", df[\"greenhouse gas\"].unique())\n",
    "print_list(\"Unique sectors:\", df[\"sector\"].unique())"
   ]
  }
 ],
 "metadata": {
  "kernelspec": {
   "display_name": ".venv",
   "language": "python",
   "name": "python3"
  },
  "language_info": {
   "codemirror_mode": {
    "name": "ipython",
    "version": 3
   },
   "file_extension": ".py",
   "mimetype": "text/x-python",
   "name": "python",
   "nbconvert_exporter": "python",
   "pygments_lexer": "ipython3",
   "version": "3.12.6"
  }
 },
 "nbformat": 4,
 "nbformat_minor": 2
}

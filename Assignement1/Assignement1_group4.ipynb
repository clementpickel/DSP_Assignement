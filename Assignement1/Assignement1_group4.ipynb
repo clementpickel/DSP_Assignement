{
 "cells": [
  {
   "cell_type": "markdown",
   "metadata": {},
   "source": [
    "# Assignement 1\n",
    "In this assignment, you need to define at least one task based on each of the exercises 1, 7, and 8.\n",
    "\n",
    "You will hand in the assignment through a Jupyter notebook, also with your environment and the dataset you picked, both zipped together and submitted as one file. Please name your file so that it contains your group number. It is important that you clearly state the tasks you are performing on the dataset as questions or something similar in the notebook before you do the operations on the data. Also make sure to document your solutions and your thinking so that it can easily be followed. If you fail to do these things, you may not pass this assignment.\n",
    "\n",
    "The deadline of this assignment is on April 12, 2025 to get bonus points, or before the exam (in which case no bonus points are awarded).\n",
    "\n",
    "Re-submission 1 is by the end of week 33, 2025.\n",
    "\n",
    "Re-submission 2 is by the end of week 2, 2026."
   ]
  },
  {
   "cell_type": "markdown",
   "metadata": {},
   "source": [
    "## Exercice 1 tasks\n",
    "- Data exploration\n",
    "- Data preprocessing\n",
    "- Combining datasets\n",
    "\n",
    "We choosed to go with Data exploration. We are gonna see the different sectors and gas present in the dataset, the years and is there is any missing values.\n",
    "\n",
    "## Exercice 7 tasks\n",
    "- Filtering, arranging, selecting, mutating\n",
    "- Pipes, grouping, and summarising\n",
    "- Dates and date-times\n",
    "\n",
    "## Exercice 8 tasks\n",
    "- Tidy data and pivoting\n",
    "- Relational data, _aka_ combining datasets\n",
    "- Strings, factors, and advanced operations"
   ]
  },
  {
   "cell_type": "markdown",
   "metadata": {},
   "source": [
    "## Open the csv\n",
    "Read the csv and print it's content to see if it is correct"
   ]
  },
  {
   "cell_type": "code",
   "execution_count": null,
   "metadata": {},
   "outputs": [],
   "source": [
    "import pandas as pd\n",
    "\n",
    "# Read the data from the csv and print it to be sure it worked\n",
    "df = pd.read_csv('../Total air emissions by greenhouse gas.csv', na_values=\"..\")\n",
    "print(df.to_string())"
   ]
  },
  {
   "cell_type": "markdown",
   "metadata": {},
   "source": [
    "# Data exploration\n",
    "## Check for missing values\n",
    "Check if there is missing values, then for total missing values, missing values by column and by row.\n",
    "Add a visual representation with a heatmap."
   ]
  },
  {
   "cell_type": "code",
   "execution_count": null,
   "metadata": {},
   "outputs": [],
   "source": [
    "# has missing value ?\n",
    "has_missing_value = pd.isnull(df).any().any()\n",
    "print(f\"Does the dataframe has missing value ? Answer : {has_missing_value}\")"
   ]
  },
  {
   "cell_type": "code",
   "execution_count": null,
   "metadata": {},
   "outputs": [],
   "source": [
    "# Total missing values\n",
    "tot_na = pd.isna(df).sum().sum()\n",
    "print(f\"Total missing values: {tot_na}\\n\")"
   ]
  },
  {
   "cell_type": "code",
   "execution_count": null,
   "metadata": {},
   "outputs": [],
   "source": [
    "# Missing values by column\n",
    "row_na = pd.isna(df).sum()\n",
    "row_na"
   ]
  },
  {
   "cell_type": "code",
   "execution_count": null,
   "metadata": {},
   "outputs": [],
   "source": [
    "#missing values by row\n",
    "missing_per_row = df.isnull().sum(axis=1)\n",
    "missing_per_row"
   ]
  },
  {
   "cell_type": "code",
   "execution_count": null,
   "metadata": {},
   "outputs": [],
   "source": [
    "# Heatmap of missing values\n",
    "import seaborn as sns\n",
    "import matplotlib.pyplot as plt\n",
    "\n",
    "sns.heatmap(df.isnull(), cmap=\"viridis\", cbar=False)\n",
    "plt.show()\n"
   ]
  },
  {
   "cell_type": "markdown",
   "metadata": {},
   "source": [
    "## Different gases and sectors\n",
    "Print all different gases and sectors"
   ]
  },
  {
   "cell_type": "code",
   "execution_count": null,
   "metadata": {},
   "outputs": [],
   "source": [
    "# Create function for better readability\n",
    "def print_list(title, lst):\n",
    "    print(title)\n",
    "    for i in lst:\n",
    "        print(f\"\\t{i}\")\n",
    "\n",
    "print_list(\"Unique greenhouse gases:\", df[\"greenhouse gas\"].unique())\n",
    "print_list(\"Unique sectors:\", df[\"sector\"].unique())\n"
   ]
  },
  {
   "cell_type": "markdown",
   "metadata": {},
   "source": [
    "## Group\n",
    "How much of kg / t / kt / kt CO2-eqv. are produces by each sector ?  \n",
    "There are 4 different units kt CO2-eqv, kt, t, kg so we are gonna divide them.\n",
    "\n",
    "There are already rows for the total by sector so we are gonna use them."
   ]
  },
  {
   "cell_type": "code",
   "execution_count": null,
   "metadata": {},
   "outputs": [],
   "source": [
    "def plot(df, unit):\n",
    "    grouped_unit = df[df[\"greenhouse gas\"].str.contains(unit, case=False, na=False)]\n",
    "    grouped_unit = grouped_unit.set_index(\"greenhouse gas\")\n",
    "\n",
    "    # Transpose so years are on the X-axis\n",
    "    grouped_unit.T.plot.area(figsize=(14, 6), colormap=\"viridis\", alpha=0.8)\n",
    "\n",
    "    plt.title(\"Emissions by Gas Over Time\")\n",
    "    plt.xlabel(\"Year\")\n",
    "    plt.ylabel(f\"Emissions {unit.replace('\\\\', '')}\")\n",
    "    plt.legend(title=\"Sector\", loc=\"upper right\")\n",
    "    plt.grid(alpha=0.3)\n",
    "    plt.show()\n",
    "\n",
    "# Remove total to not count it twice\n",
    "rm_tot = df[df[\"greenhouse gas\"] != \"Total Greenhouse Gases (kt CO2-eqv.)\"]\n",
    "\n",
    "# Group by 'greenhouse gas' and sum numeric columns\n",
    "grouped = rm_tot.groupby([\"greenhouse gas\"], as_index=False).sum(numeric_only=True)\n",
    "\n",
    "plot(grouped, r\"\\(kg\\)\")\n",
    "plot(grouped, r\"\\(t\\)\")\n",
    "plot(grouped, r\"\\(kt\\)\")\n",
    "plot(grouped, r\"\\(kt CO2-eqv.\\)\")"
   ]
  },
  {
   "cell_type": "code",
   "execution_count": null,
   "metadata": {},
   "outputs": [],
   "source": [
    "# Only keep total\n",
    "df_filtered = df[df[\"greenhouse gas\"] == \"Total Greenhouse Gases (kt CO2-eqv.)\"]\n",
    "\n",
    "df_filtered = df_filtered.drop(columns=[\"greenhouse gas\"])\n",
    "df_filtered_no_nt = df_filtered[df_filtered[\"sector\"] != \"NATIONAL TOTAL (including LULUCF, excluding international transports)\"] # contains positive and negative values which can't be plotted on a stacked area chart\n",
    "df_filtered.set_index(\"sector\", inplace=True)\n",
    "df_filtered_no_nt.set_index(\"sector\", inplace=True)\n",
    "# print(df_filtered_no_nt.to_string())\n",
    "\n",
    "# Transpose so years are on the X-axis\n",
    "df_filtered_no_nt.T.plot.area(figsize=(14, 6), colormap=\"viridis\", alpha=0.8)\n",
    "\n",
    "# Formatting\n",
    "plt.title(\"Emissions by Sector Over Time\")\n",
    "plt.xlabel(\"Year\")\n",
    "plt.ylabel(\"Emissions\")\n",
    "plt.legend(title=\"Sector\", loc=\"upper right\")\n",
    "plt.grid(alpha=0.3)\n",
    "plt.show()"
   ]
  },
  {
   "cell_type": "markdown",
   "metadata": {},
   "source": [
    "### Isolate waste data\n",
    "\n",
    "I want to isolate waste data, work on the data to know which gases are waste. Saw the evolution between 1990 and 2023"
   ]
  },
  {
   "cell_type": "code",
   "execution_count": null,
   "metadata": {},
   "outputs": [],
   "source": [
    "df_waste_total = df[df[\"sector\"] == \"WASTE, TOTAL\"].sort_values(by=\"2023\", ascending=False)\n",
    "df_waste_total\n"
   ]
  },
  {
   "cell_type": "markdown",
   "metadata": {},
   "source": [
    "#### Saw the evolution between 1990 and 2023"
   ]
  },
  {
   "cell_type": "code",
   "execution_count": null,
   "metadata": {},
   "outputs": [],
   "source": [
    "df_waste_total_only_1990_2023 = df_waste_total[['greenhouse gas', 'sector','1990', '2023']]\n",
    "df_waste_total_only_1990_2023"
   ]
  },
  {
   "cell_type": "code",
   "execution_count": null,
   "metadata": {},
   "outputs": [],
   "source": [
    "df_waste_total_only_1990_2023_with_evolution = df_waste_total_only_1990_2023.copy()\n",
    "\n",
    "#calculating percent change\n",
    "df_waste_total_only_1990_2023_with_evolution[\"percent_change\"] = (\n",
    "    (df_waste_total_only_1990_2023_with_evolution[\"2023\"]\n",
    "     - df_waste_total_only_1990_2023_with_evolution[\"1990\"])\n",
    "    / df_waste_total_only_1990_2023_with_evolution[\"1990\"]\n",
    ") * 100\n",
    "\n",
    "# filling NaN value with 0\n",
    "df_waste_total_only_1990_2023_with_evolution = df_waste_total_only_1990_2023_with_evolution.fillna(0)\n",
    "\n",
    "# delete rows with 0 in it\n",
    "df_waste_total_only_1990_2023_with_evolution = df_waste_total_only_1990_2023_with_evolution[\n",
    "    (df_waste_total_only_1990_2023_with_evolution[\"1990\"] != 0) &\n",
    "    (df_waste_total_only_1990_2023_with_evolution[\"2023\"] != 0)\n",
    "]\n",
    "\n",
    "#sorting\n",
    "df_waste_total_only_1990_2023_with_evolution.sort_values(by=\"percent_change\", ascending=False)"
   ]
  },
  {
   "cell_type": "markdown",
   "metadata": {},
   "source": [
    "#### plotting the evolution"
   ]
  },
  {
   "cell_type": "code",
   "execution_count": null,
   "metadata": {},
   "outputs": [],
   "source": [
    "# plotting percent change\n",
    "\n",
    "df_waste_total_only_1990_2023_with_evolution.set_index(\"greenhouse gas\", inplace=True)\n",
    "df_waste_total_only_1990_2023_with_evolution[\"percent_change\"].plot(kind=\"barh\", figsize=(10, 8), color=\"mediumseagreen\")\n",
    "plt.xlabel(\"percent_change (%)\")\n",
    "plt.ylabel(\"Greenhouse Gas\")\n",
    "plt.title(\"percent change of emissions from Waste from 1990 to 2023\")\n",
    "plt.grid(axis='x', linestyle='--', alpha=0.7)\n",
    "plt.tight_layout()\n",
    "plt.show()\n"
   ]
  },
  {
   "cell_type": "markdown",
   "metadata": {},
   "source": [
    "## Describe\n",
    "Describe total for years and sectors"
   ]
  },
  {
   "cell_type": "code",
   "execution_count": null,
   "metadata": {},
   "outputs": [],
   "source": [
    "print(df_filtered.describe().to_string())\n",
    "print()\n",
    "print(df_filtered.T.describe().to_string())"
   ]
  },
  {
   "cell_type": "markdown",
   "metadata": {},
   "source": [
    "# Preprocessing\n",
    "## Create row total\n",
    "Compute total gas emited since 1990"
   ]
  },
  {
   "cell_type": "code",
   "execution_count": null,
   "metadata": {},
   "outputs": [],
   "source": [
    "years = [str(i) for i in range(1990, 2024)]  # List of column names as strings\n",
    "df[\"Total\"] = df[years].sum(axis=1)\n",
    "df"
   ]
  },
  {
   "cell_type": "markdown",
   "metadata": {},
   "source": [
    "### Replace null value "
   ]
  },
  {
   "cell_type": "code",
   "execution_count": null,
   "metadata": {},
   "outputs": [],
   "source": [
    "df = df.fillna(0)\n",
    "df"
   ]
  },
  {
   "cell_type": "markdown",
   "metadata": {},
   "source": [
    "## Get the top 25% of gas producers sectors by greenhouse effect"
   ]
  },
  {
   "cell_type": "code",
   "execution_count": null,
   "metadata": {},
   "outputs": [],
   "source": [
    "gas_quantile = df.groupby(\"greenhouse gas\")[\"Total\"].quantile(0.75) # Get the top 25% by gas\n",
    "is_above_cutoff = lambda x: x[\"Total\"] >= gas_quantile[x[\"greenhouse gas\"]] # Create cutoff function, see ex1, 16\n",
    "df[\"Top producer\"] = df.apply(is_above_cutoff, axis=1) # Apply function\n",
    "df"
   ]
  }
 ],
 "metadata": {
  "kernelspec": {
   "display_name": "dsp",
   "language": "python",
   "name": "python3"
  },
  "language_info": {
   "codemirror_mode": {
    "name": "ipython",
    "version": 3
   },
   "file_extension": ".py",
   "mimetype": "text/x-python",
   "name": "python",
   "nbconvert_exporter": "python",
   "pygments_lexer": "ipython3",
   "version": "3.9.21"
  }
 },
 "nbformat": 4,
 "nbformat_minor": 2
}
